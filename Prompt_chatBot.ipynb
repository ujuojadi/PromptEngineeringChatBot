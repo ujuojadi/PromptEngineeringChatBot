{
 "cells": [
  {
   "cell_type": "code",
   "execution_count": 1,
   "id": "eeee5483",
   "metadata": {},
   "outputs": [
    {
     "name": "stdout",
     "output_type": "stream",
     "text": [
      "Requirement already satisfied: langchain-google-genai in c:\\users\\jessica\\anaconda3\\lib\\site-packages (2.0.5)\n",
      "Requirement already satisfied: google-generativeai<0.9.0,>=0.8.0 in c:\\users\\jessica\\anaconda3\\lib\\site-packages (from langchain-google-genai) (0.8.3)\n",
      "Requirement already satisfied: langchain-core<0.4,>=0.3.15 in c:\\users\\jessica\\anaconda3\\lib\\site-packages (from langchain-google-genai) (0.3.21)\n",
      "Requirement already satisfied: pydantic<3,>=2 in c:\\users\\jessica\\anaconda3\\lib\\site-packages (from langchain-google-genai) (2.9.2)\n",
      "Requirement already satisfied: google-ai-generativelanguage==0.6.10 in c:\\users\\jessica\\anaconda3\\lib\\site-packages (from google-generativeai<0.9.0,>=0.8.0->langchain-google-genai) (0.6.10)\n",
      "Requirement already satisfied: google-api-core in c:\\users\\jessica\\anaconda3\\lib\\site-packages (from google-generativeai<0.9.0,>=0.8.0->langchain-google-genai) (2.23.0)\n",
      "Requirement already satisfied: google-api-python-client in c:\\users\\jessica\\anaconda3\\lib\\site-packages (from google-generativeai<0.9.0,>=0.8.0->langchain-google-genai) (2.154.0)\n",
      "Requirement already satisfied: google-auth>=2.15.0 in c:\\users\\jessica\\anaconda3\\lib\\site-packages (from google-generativeai<0.9.0,>=0.8.0->langchain-google-genai) (2.36.0)\n",
      "Requirement already satisfied: protobuf in c:\\users\\jessica\\anaconda3\\lib\\site-packages (from google-generativeai<0.9.0,>=0.8.0->langchain-google-genai) (4.25.5)\n",
      "Requirement already satisfied: tqdm in c:\\users\\jessica\\anaconda3\\lib\\site-packages (from google-generativeai<0.9.0,>=0.8.0->langchain-google-genai) (4.65.0)\n",
      "Requirement already satisfied: typing-extensions in c:\\users\\jessica\\anaconda3\\lib\\site-packages (from google-generativeai<0.9.0,>=0.8.0->langchain-google-genai) (4.12.2)\n",
      "Requirement already satisfied: proto-plus<2.0.0dev,>=1.22.3 in c:\\users\\jessica\\anaconda3\\lib\\site-packages (from google-ai-generativelanguage==0.6.10->google-generativeai<0.9.0,>=0.8.0->langchain-google-genai) (1.25.0)\n",
      "Requirement already satisfied: PyYAML>=5.3 in c:\\users\\jessica\\anaconda3\\lib\\site-packages (from langchain-core<0.4,>=0.3.15->langchain-google-genai) (6.0)\n",
      "Requirement already satisfied: jsonpatch<2.0,>=1.33 in c:\\users\\jessica\\anaconda3\\lib\\site-packages (from langchain-core<0.4,>=0.3.15->langchain-google-genai) (1.33)\n",
      "Requirement already satisfied: langsmith<0.2.0,>=0.1.125 in c:\\users\\jessica\\anaconda3\\lib\\site-packages (from langchain-core<0.4,>=0.3.15->langchain-google-genai) (0.1.146)\n",
      "Requirement already satisfied: packaging<25,>=23.2 in c:\\users\\jessica\\anaconda3\\lib\\site-packages (from langchain-core<0.4,>=0.3.15->langchain-google-genai) (24.1)\n",
      "Requirement already satisfied: tenacity!=8.4.0,<10.0.0,>=8.1.0 in c:\\users\\jessica\\anaconda3\\lib\\site-packages (from langchain-core<0.4,>=0.3.15->langchain-google-genai) (8.5.0)\n",
      "Requirement already satisfied: annotated-types>=0.6.0 in c:\\users\\jessica\\anaconda3\\lib\\site-packages (from pydantic<3,>=2->langchain-google-genai) (0.7.0)\n",
      "Requirement already satisfied: pydantic-core==2.23.4 in c:\\users\\jessica\\anaconda3\\lib\\site-packages (from pydantic<3,>=2->langchain-google-genai) (2.23.4)\n",
      "Requirement already satisfied: cachetools<6.0,>=2.0.0 in c:\\users\\jessica\\anaconda3\\lib\\site-packages (from google-auth>=2.15.0->google-generativeai<0.9.0,>=0.8.0->langchain-google-genai) (5.5.0)\n",
      "Requirement already satisfied: pyasn1-modules>=0.2.1 in c:\\users\\jessica\\anaconda3\\lib\\site-packages (from google-auth>=2.15.0->google-generativeai<0.9.0,>=0.8.0->langchain-google-genai) (0.2.8)\n",
      "Requirement already satisfied: rsa<5,>=3.1.4 in c:\\users\\jessica\\anaconda3\\lib\\site-packages (from google-auth>=2.15.0->google-generativeai<0.9.0,>=0.8.0->langchain-google-genai) (4.9)\n",
      "Requirement already satisfied: jsonpointer>=1.9 in c:\\users\\jessica\\anaconda3\\lib\\site-packages (from jsonpatch<2.0,>=1.33->langchain-core<0.4,>=0.3.15->langchain-google-genai) (2.1)\n",
      "Requirement already satisfied: httpx<1,>=0.23.0 in c:\\users\\jessica\\anaconda3\\lib\\site-packages (from langsmith<0.2.0,>=0.1.125->langchain-core<0.4,>=0.3.15->langchain-google-genai) (0.27.0)\n",
      "Requirement already satisfied: orjson<4.0.0,>=3.9.14 in c:\\users\\jessica\\anaconda3\\lib\\site-packages (from langsmith<0.2.0,>=0.1.125->langchain-core<0.4,>=0.3.15->langchain-google-genai) (3.10.5)\n",
      "Requirement already satisfied: requests<3,>=2 in c:\\users\\jessica\\anaconda3\\lib\\site-packages (from langsmith<0.2.0,>=0.1.125->langchain-core<0.4,>=0.3.15->langchain-google-genai) (2.31.0)\n",
      "Requirement already satisfied: requests-toolbelt<2.0.0,>=1.0.0 in c:\\users\\jessica\\anaconda3\\lib\\site-packages (from langsmith<0.2.0,>=0.1.125->langchain-core<0.4,>=0.3.15->langchain-google-genai) (1.0.0)\n",
      "Requirement already satisfied: googleapis-common-protos<2.0.dev0,>=1.56.2 in c:\\users\\jessica\\anaconda3\\lib\\site-packages (from google-api-core->google-generativeai<0.9.0,>=0.8.0->langchain-google-genai) (1.63.1)\n",
      "Requirement already satisfied: httplib2<1.dev0,>=0.19.0 in c:\\users\\jessica\\anaconda3\\lib\\site-packages (from google-api-python-client->google-generativeai<0.9.0,>=0.8.0->langchain-google-genai) (0.22.0)\n",
      "Requirement already satisfied: google-auth-httplib2<1.0.0,>=0.2.0 in c:\\users\\jessica\\anaconda3\\lib\\site-packages (from google-api-python-client->google-generativeai<0.9.0,>=0.8.0->langchain-google-genai) (0.2.0)\n",
      "Requirement already satisfied: uritemplate<5,>=3.0.1 in c:\\users\\jessica\\anaconda3\\lib\\site-packages (from google-api-python-client->google-generativeai<0.9.0,>=0.8.0->langchain-google-genai) (4.1.1)\n",
      "Requirement already satisfied: colorama in c:\\users\\jessica\\anaconda3\\lib\\site-packages (from tqdm->google-generativeai<0.9.0,>=0.8.0->langchain-google-genai) (0.4.6)\n",
      "Requirement already satisfied: grpcio<2.0dev,>=1.33.2 in c:\\users\\jessica\\anaconda3\\lib\\site-packages (from google-api-core->google-generativeai<0.9.0,>=0.8.0->langchain-google-genai) (1.68.0)\n",
      "Requirement already satisfied: grpcio-status<2.0.dev0,>=1.33.2 in c:\\users\\jessica\\anaconda3\\lib\\site-packages (from google-api-core->google-generativeai<0.9.0,>=0.8.0->langchain-google-genai) (1.68.0)\n",
      "Requirement already satisfied: pyparsing!=3.0.0,!=3.0.1,!=3.0.2,!=3.0.3,<4,>=2.4.2 in c:\\users\\jessica\\anaconda3\\lib\\site-packages (from httplib2<1.dev0,>=0.19.0->google-api-python-client->google-generativeai<0.9.0,>=0.8.0->langchain-google-genai) (3.0.9)\n",
      "Requirement already satisfied: anyio in c:\\users\\jessica\\anaconda3\\lib\\site-packages (from httpx<1,>=0.23.0->langsmith<0.2.0,>=0.1.125->langchain-core<0.4,>=0.3.15->langchain-google-genai) (3.5.0)\n",
      "Requirement already satisfied: certifi in c:\\users\\jessica\\anaconda3\\lib\\site-packages (from httpx<1,>=0.23.0->langsmith<0.2.0,>=0.1.125->langchain-core<0.4,>=0.3.15->langchain-google-genai) (2023.7.22)\n",
      "Requirement already satisfied: httpcore==1.* in c:\\users\\jessica\\anaconda3\\lib\\site-packages (from httpx<1,>=0.23.0->langsmith<0.2.0,>=0.1.125->langchain-core<0.4,>=0.3.15->langchain-google-genai) (1.0.5)\n",
      "Requirement already satisfied: idna in c:\\users\\jessica\\anaconda3\\lib\\site-packages (from httpx<1,>=0.23.0->langsmith<0.2.0,>=0.1.125->langchain-core<0.4,>=0.3.15->langchain-google-genai) (3.4)\n",
      "Requirement already satisfied: sniffio in c:\\users\\jessica\\anaconda3\\lib\\site-packages (from httpx<1,>=0.23.0->langsmith<0.2.0,>=0.1.125->langchain-core<0.4,>=0.3.15->langchain-google-genai) (1.2.0)\n",
      "Requirement already satisfied: h11<0.15,>=0.13 in c:\\users\\jessica\\anaconda3\\lib\\site-packages (from httpcore==1.*->httpx<1,>=0.23.0->langsmith<0.2.0,>=0.1.125->langchain-core<0.4,>=0.3.15->langchain-google-genai) (0.14.0)\n",
      "Requirement already satisfied: pyasn1<0.5.0,>=0.4.6 in c:\\users\\jessica\\anaconda3\\lib\\site-packages (from pyasn1-modules>=0.2.1->google-auth>=2.15.0->google-generativeai<0.9.0,>=0.8.0->langchain-google-genai) (0.4.8)\n",
      "Requirement already satisfied: charset-normalizer<4,>=2 in c:\\users\\jessica\\anaconda3\\lib\\site-packages (from requests<3,>=2->langsmith<0.2.0,>=0.1.125->langchain-core<0.4,>=0.3.15->langchain-google-genai) (2.0.4)\n",
      "Requirement already satisfied: urllib3<3,>=1.21.1 in c:\\users\\jessica\\anaconda3\\lib\\site-packages (from requests<3,>=2->langsmith<0.2.0,>=0.1.125->langchain-core<0.4,>=0.3.15->langchain-google-genai) (1.26.16)\n",
      "Collecting protobuf (from google-generativeai<0.9.0,>=0.8.0->langchain-google-genai)\n",
      "  Obtaining dependency information for protobuf from https://files.pythonhosted.org/packages/9c/4c/4563ebe001ff30dca9d7ed12e471fa098d9759712980cde1fd03a3a44fb7/protobuf-5.28.3-cp310-abi3-win_amd64.whl.metadata\n",
      "  Using cached protobuf-5.28.3-cp310-abi3-win_amd64.whl.metadata (592 bytes)\n",
      "Using cached protobuf-5.28.3-cp310-abi3-win_amd64.whl (431 kB)\n",
      "Installing collected packages: protobuf\n",
      "  Attempting uninstall: protobuf\n",
      "    Found existing installation: protobuf 4.25.5\n",
      "    Uninstalling protobuf-4.25.5:\n",
      "      Successfully uninstalled protobuf-4.25.5\n",
      "Successfully installed protobuf-5.28.3\n"
     ]
    },
    {
     "name": "stderr",
     "output_type": "stream",
     "text": [
      "ERROR: pip's dependency resolver does not currently take into account all the packages that are installed. This behaviour is the source of the following dependency conflicts.\n",
      "opentelemetry-proto 1.27.0 requires protobuf<5.0,>=3.19, but you have protobuf 5.28.3 which is incompatible.\n",
      "streamlit 1.22.0 requires protobuf<4,>=3.12, but you have protobuf 5.28.3 which is incompatible.\n"
     ]
    },
    {
     "name": "stdout",
     "output_type": "stream",
     "text": [
      "Collecting langchain==0.0.284 (from -r requirements.txt (line 1))\n",
      "  Obtaining dependency information for langchain==0.0.284 from https://files.pythonhosted.org/packages/e0/0f/ad9d8095ec147c1b33584b69f287e0e39abef1c2955d834802c3592b0c8d/langchain-0.0.284-py3-none-any.whl.metadata\n",
      "  Using cached langchain-0.0.284-py3-none-any.whl.metadata (14 kB)\n",
      "Requirement already satisfied: python-dotenv==1.0.0 in c:\\users\\jessica\\anaconda3\\lib\\site-packages (from -r requirements.txt (line 2)) (1.0.0)\n",
      "Requirement already satisfied: streamlit==1.22.0 in c:\\users\\jessica\\anaconda3\\lib\\site-packages (from -r requirements.txt (line 3)) (1.22.0)\n",
      "Requirement already satisfied: tiktoken==0.4.0 in c:\\users\\jessica\\anaconda3\\lib\\site-packages (from -r requirements.txt (line 4)) (0.4.0)\n",
      "Requirement already satisfied: faiss-cpu==1.7.4 in c:\\users\\jessica\\anaconda3\\lib\\site-packages (from -r requirements.txt (line 5)) (1.7.4)\n",
      "Collecting protobuf~=3.19.0 (from -r requirements.txt (line 6))\n",
      "  Obtaining dependency information for protobuf~=3.19.0 from https://files.pythonhosted.org/packages/32/27/1141a8232723dcb10a595cc0ce4321dcbbd5215300bf4acfc142343205bf/protobuf-3.19.6-py2.py3-none-any.whl.metadata\n",
      "  Using cached protobuf-3.19.6-py2.py3-none-any.whl.metadata (828 bytes)\n",
      "Requirement already satisfied: langchain_experimental in c:\\users\\jessica\\anaconda3\\lib\\site-packages (from -r requirements.txt (line 7)) (0.0.25)\n",
      "Requirement already satisfied: mysql-connector-python in c:\\users\\jessica\\anaconda3\\lib\\site-packages (from -r requirements.txt (line 8)) (9.1.0)\n",
      "Requirement already satisfied: pymysql in c:\\users\\jessica\\anaconda3\\lib\\site-packages (from -r requirements.txt (line 9)) (1.1.1)\n",
      "Requirement already satisfied: sentence-transformers in c:\\users\\jessica\\anaconda3\\lib\\site-packages (from -r requirements.txt (line 10)) (3.3.1)\n",
      "Requirement already satisfied: chromadb in c:\\users\\jessica\\anaconda3\\lib\\site-packages (from -r requirements.txt (line 11)) (0.5.20)\n",
      "Requirement already satisfied: PyYAML>=5.3 in c:\\users\\jessica\\anaconda3\\lib\\site-packages (from langchain==0.0.284->-r requirements.txt (line 1)) (6.0)\n",
      "Requirement already satisfied: SQLAlchemy<3,>=1.4 in c:\\users\\jessica\\anaconda3\\lib\\site-packages (from langchain==0.0.284->-r requirements.txt (line 1)) (1.4.39)\n",
      "Requirement already satisfied: aiohttp<4.0.0,>=3.8.3 in c:\\users\\jessica\\anaconda3\\lib\\site-packages (from langchain==0.0.284->-r requirements.txt (line 1)) (3.8.5)\n",
      "Requirement already satisfied: dataclasses-json<0.6.0,>=0.5.7 in c:\\users\\jessica\\anaconda3\\lib\\site-packages (from langchain==0.0.284->-r requirements.txt (line 1)) (0.5.14)\n",
      "Collecting langsmith<0.1.0,>=0.0.21 (from langchain==0.0.284->-r requirements.txt (line 1))\n",
      "  Obtaining dependency information for langsmith<0.1.0,>=0.0.21 from https://files.pythonhosted.org/packages/97/cd/1c618f89d3fcbb375c99a3ea950bffba8a01862cc0f0ab5032dfb95e8d1e/langsmith-0.0.92-py3-none-any.whl.metadata\n",
      "  Using cached langsmith-0.0.92-py3-none-any.whl.metadata (9.9 kB)\n",
      "Requirement already satisfied: numexpr<3.0.0,>=2.8.4 in c:\\users\\jessica\\anaconda3\\lib\\site-packages (from langchain==0.0.284->-r requirements.txt (line 1)) (2.8.4)\n",
      "Requirement already satisfied: numpy<2,>=1 in c:\\users\\jessica\\anaconda3\\lib\\site-packages (from langchain==0.0.284->-r requirements.txt (line 1)) (1.24.3)\n",
      "Requirement already satisfied: pydantic<3,>=1 in c:\\users\\jessica\\anaconda3\\lib\\site-packages (from langchain==0.0.284->-r requirements.txt (line 1)) (2.9.2)\n",
      "Requirement already satisfied: requests<3,>=2 in c:\\users\\jessica\\anaconda3\\lib\\site-packages (from langchain==0.0.284->-r requirements.txt (line 1)) (2.31.0)\n",
      "Requirement already satisfied: tenacity<9.0.0,>=8.1.0 in c:\\users\\jessica\\anaconda3\\lib\\site-packages (from langchain==0.0.284->-r requirements.txt (line 1)) (8.5.0)\n",
      "Requirement already satisfied: altair<5,>=3.2.0 in c:\\users\\jessica\\anaconda3\\lib\\site-packages (from streamlit==1.22.0->-r requirements.txt (line 3)) (4.2.2)\n",
      "Requirement already satisfied: blinker>=1.0.0 in c:\\users\\jessica\\anaconda3\\lib\\site-packages (from streamlit==1.22.0->-r requirements.txt (line 3)) (1.9.0)\n",
      "Requirement already satisfied: cachetools>=4.0 in c:\\users\\jessica\\anaconda3\\lib\\site-packages (from streamlit==1.22.0->-r requirements.txt (line 3)) (5.5.0)\n",
      "Requirement already satisfied: click>=7.0 in c:\\users\\jessica\\anaconda3\\lib\\site-packages (from streamlit==1.22.0->-r requirements.txt (line 3)) (8.0.4)\n",
      "Requirement already satisfied: importlib-metadata>=1.4 in c:\\users\\jessica\\anaconda3\\lib\\site-packages (from streamlit==1.22.0->-r requirements.txt (line 3)) (6.0.0)\n",
      "Requirement already satisfied: packaging>=14.1 in c:\\users\\jessica\\anaconda3\\lib\\site-packages (from streamlit==1.22.0->-r requirements.txt (line 3)) (24.1)\n",
      "Requirement already satisfied: pandas<3,>=0.25 in c:\\users\\jessica\\anaconda3\\lib\\site-packages (from streamlit==1.22.0->-r requirements.txt (line 3)) (2.0.3)\n",
      "Requirement already satisfied: pillow>=6.2.0 in c:\\users\\jessica\\anaconda3\\lib\\site-packages (from streamlit==1.22.0->-r requirements.txt (line 3)) (9.4.0)\n",
      "Requirement already satisfied: pyarrow>=4.0 in c:\\users\\jessica\\anaconda3\\lib\\site-packages (from streamlit==1.22.0->-r requirements.txt (line 3)) (11.0.0)\n",
      "Requirement already satisfied: pympler>=0.9 in c:\\users\\jessica\\anaconda3\\lib\\site-packages (from streamlit==1.22.0->-r requirements.txt (line 3)) (1.1)\n",
      "Requirement already satisfied: python-dateutil in c:\\users\\jessica\\anaconda3\\lib\\site-packages (from streamlit==1.22.0->-r requirements.txt (line 3)) (2.8.2)\n",
      "Requirement already satisfied: rich>=10.11.0 in c:\\users\\jessica\\anaconda3\\lib\\site-packages (from streamlit==1.22.0->-r requirements.txt (line 3)) (13.9.4)\n",
      "Requirement already satisfied: toml in c:\\users\\jessica\\anaconda3\\lib\\site-packages (from streamlit==1.22.0->-r requirements.txt (line 3)) (0.10.2)\n",
      "Requirement already satisfied: typing-extensions>=3.10.0.0 in c:\\users\\jessica\\anaconda3\\lib\\site-packages (from streamlit==1.22.0->-r requirements.txt (line 3)) (4.12.2)\n",
      "Requirement already satisfied: tzlocal>=1.1 in c:\\users\\jessica\\anaconda3\\lib\\site-packages (from streamlit==1.22.0->-r requirements.txt (line 3)) (5.2)\n",
      "Requirement already satisfied: validators>=0.2 in c:\\users\\jessica\\anaconda3\\lib\\site-packages (from streamlit==1.22.0->-r requirements.txt (line 3)) (0.34.0)\n",
      "Requirement already satisfied: gitpython!=3.1.19 in c:\\users\\jessica\\anaconda3\\lib\\site-packages (from streamlit==1.22.0->-r requirements.txt (line 3)) (3.1.43)\n",
      "Requirement already satisfied: pydeck>=0.1.dev5 in c:\\users\\jessica\\anaconda3\\lib\\site-packages (from streamlit==1.22.0->-r requirements.txt (line 3)) (0.9.1)\n",
      "Requirement already satisfied: tornado>=6.0.3 in c:\\users\\jessica\\anaconda3\\lib\\site-packages (from streamlit==1.22.0->-r requirements.txt (line 3)) (6.3.2)\n",
      "Requirement already satisfied: watchdog in c:\\users\\jessica\\anaconda3\\lib\\site-packages (from streamlit==1.22.0->-r requirements.txt (line 3)) (2.1.6)\n",
      "Requirement already satisfied: regex>=2022.1.18 in c:\\users\\jessica\\anaconda3\\lib\\site-packages (from tiktoken==0.4.0->-r requirements.txt (line 4)) (2022.7.9)\n",
      "Requirement already satisfied: transformers<5.0.0,>=4.41.0 in c:\\users\\jessica\\anaconda3\\lib\\site-packages (from sentence-transformers->-r requirements.txt (line 10)) (4.46.3)\n",
      "Requirement already satisfied: tqdm in c:\\users\\jessica\\anaconda3\\lib\\site-packages (from sentence-transformers->-r requirements.txt (line 10)) (4.65.0)\n",
      "Requirement already satisfied: torch>=1.11.0 in c:\\users\\jessica\\anaconda3\\lib\\site-packages (from sentence-transformers->-r requirements.txt (line 10)) (2.5.1)\n",
      "Requirement already satisfied: scikit-learn in c:\\users\\jessica\\anaconda3\\lib\\site-packages (from sentence-transformers->-r requirements.txt (line 10)) (1.3.0)\n",
      "Requirement already satisfied: scipy in c:\\users\\jessica\\anaconda3\\lib\\site-packages (from sentence-transformers->-r requirements.txt (line 10)) (1.11.1)\n",
      "Requirement already satisfied: huggingface-hub>=0.20.0 in c:\\users\\jessica\\anaconda3\\lib\\site-packages (from sentence-transformers->-r requirements.txt (line 10)) (0.26.2)\n",
      "Requirement already satisfied: build>=1.0.3 in c:\\users\\jessica\\anaconda3\\lib\\site-packages (from chromadb->-r requirements.txt (line 11)) (1.2.2.post1)\n",
      "Requirement already satisfied: chroma-hnswlib==0.7.6 in c:\\users\\jessica\\anaconda3\\lib\\site-packages (from chromadb->-r requirements.txt (line 11)) (0.7.6)\n",
      "Requirement already satisfied: fastapi>=0.95.2 in c:\\users\\jessica\\anaconda3\\lib\\site-packages (from chromadb->-r requirements.txt (line 11)) (0.115.5)\n",
      "Requirement already satisfied: uvicorn[standard]>=0.18.3 in c:\\users\\jessica\\anaconda3\\lib\\site-packages (from chromadb->-r requirements.txt (line 11)) (0.32.1)\n",
      "Requirement already satisfied: posthog>=2.4.0 in c:\\users\\jessica\\anaconda3\\lib\\site-packages (from chromadb->-r requirements.txt (line 11)) (3.7.3)\n",
      "Requirement already satisfied: onnxruntime>=1.14.1 in c:\\users\\jessica\\anaconda3\\lib\\site-packages (from chromadb->-r requirements.txt (line 11)) (1.20.1)\n",
      "Requirement already satisfied: opentelemetry-api>=1.2.0 in c:\\users\\jessica\\anaconda3\\lib\\site-packages (from chromadb->-r requirements.txt (line 11)) (1.27.0)\n",
      "Requirement already satisfied: opentelemetry-exporter-otlp-proto-grpc>=1.2.0 in c:\\users\\jessica\\anaconda3\\lib\\site-packages (from chromadb->-r requirements.txt (line 11)) (1.27.0)\n",
      "Requirement already satisfied: opentelemetry-instrumentation-fastapi>=0.41b0 in c:\\users\\jessica\\anaconda3\\lib\\site-packages (from chromadb->-r requirements.txt (line 11)) (0.48b0)\n",
      "Requirement already satisfied: opentelemetry-sdk>=1.2.0 in c:\\users\\jessica\\anaconda3\\lib\\site-packages (from chromadb->-r requirements.txt (line 11)) (1.27.0)\n",
      "Requirement already satisfied: tokenizers>=0.13.2 in c:\\users\\jessica\\anaconda3\\lib\\site-packages (from chromadb->-r requirements.txt (line 11)) (0.20.4)\n",
      "Requirement already satisfied: pypika>=0.48.9 in c:\\users\\jessica\\anaconda3\\lib\\site-packages (from chromadb->-r requirements.txt (line 11)) (0.48.9)\n",
      "Requirement already satisfied: overrides>=7.3.1 in c:\\users\\jessica\\anaconda3\\lib\\site-packages (from chromadb->-r requirements.txt (line 11)) (7.7.0)\n",
      "Requirement already satisfied: importlib-resources in c:\\users\\jessica\\anaconda3\\lib\\site-packages (from chromadb->-r requirements.txt (line 11)) (6.4.5)\n",
      "Requirement already satisfied: grpcio>=1.58.0 in c:\\users\\jessica\\anaconda3\\lib\\site-packages (from chromadb->-r requirements.txt (line 11)) (1.68.0)\n",
      "Requirement already satisfied: bcrypt>=4.0.1 in c:\\users\\jessica\\anaconda3\\lib\\site-packages (from chromadb->-r requirements.txt (line 11)) (4.2.1)\n",
      "Requirement already satisfied: typer>=0.9.0 in c:\\users\\jessica\\anaconda3\\lib\\site-packages (from chromadb->-r requirements.txt (line 11)) (0.13.1)\n",
      "Requirement already satisfied: kubernetes>=28.1.0 in c:\\users\\jessica\\anaconda3\\lib\\site-packages (from chromadb->-r requirements.txt (line 11)) (31.0.0)\n",
      "Requirement already satisfied: mmh3>=4.0.1 in c:\\users\\jessica\\anaconda3\\lib\\site-packages (from chromadb->-r requirements.txt (line 11)) (5.0.1)\n",
      "Requirement already satisfied: orjson>=3.9.12 in c:\\users\\jessica\\anaconda3\\lib\\site-packages (from chromadb->-r requirements.txt (line 11)) (3.10.5)\n",
      "Requirement already satisfied: httpx>=0.27.0 in c:\\users\\jessica\\anaconda3\\lib\\site-packages (from chromadb->-r requirements.txt (line 11)) (0.27.0)\n",
      "Requirement already satisfied: attrs>=17.3.0 in c:\\users\\jessica\\anaconda3\\lib\\site-packages (from aiohttp<4.0.0,>=3.8.3->langchain==0.0.284->-r requirements.txt (line 1)) (22.1.0)\n",
      "Requirement already satisfied: charset-normalizer<4.0,>=2.0 in c:\\users\\jessica\\anaconda3\\lib\\site-packages (from aiohttp<4.0.0,>=3.8.3->langchain==0.0.284->-r requirements.txt (line 1)) (2.0.4)\n",
      "Requirement already satisfied: multidict<7.0,>=4.5 in c:\\users\\jessica\\anaconda3\\lib\\site-packages (from aiohttp<4.0.0,>=3.8.3->langchain==0.0.284->-r requirements.txt (line 1)) (6.0.2)\n",
      "Requirement already satisfied: async-timeout<5.0,>=4.0.0a3 in c:\\users\\jessica\\anaconda3\\lib\\site-packages (from aiohttp<4.0.0,>=3.8.3->langchain==0.0.284->-r requirements.txt (line 1)) (4.0.2)\n",
      "Requirement already satisfied: yarl<2.0,>=1.0 in c:\\users\\jessica\\anaconda3\\lib\\site-packages (from aiohttp<4.0.0,>=3.8.3->langchain==0.0.284->-r requirements.txt (line 1)) (1.8.1)\n",
      "Requirement already satisfied: frozenlist>=1.1.1 in c:\\users\\jessica\\anaconda3\\lib\\site-packages (from aiohttp<4.0.0,>=3.8.3->langchain==0.0.284->-r requirements.txt (line 1)) (1.3.3)\n",
      "Requirement already satisfied: aiosignal>=1.1.2 in c:\\users\\jessica\\anaconda3\\lib\\site-packages (from aiohttp<4.0.0,>=3.8.3->langchain==0.0.284->-r requirements.txt (line 1)) (1.2.0)\n",
      "Requirement already satisfied: entrypoints in c:\\users\\jessica\\anaconda3\\lib\\site-packages (from altair<5,>=3.2.0->streamlit==1.22.0->-r requirements.txt (line 3)) (0.4)\n",
      "Requirement already satisfied: jinja2 in c:\\users\\jessica\\anaconda3\\lib\\site-packages (from altair<5,>=3.2.0->streamlit==1.22.0->-r requirements.txt (line 3)) (3.1.2)\n",
      "Requirement already satisfied: jsonschema>=3.0 in c:\\users\\jessica\\anaconda3\\lib\\site-packages (from altair<5,>=3.2.0->streamlit==1.22.0->-r requirements.txt (line 3)) (4.17.3)\n",
      "Requirement already satisfied: toolz in c:\\users\\jessica\\anaconda3\\lib\\site-packages (from altair<5,>=3.2.0->streamlit==1.22.0->-r requirements.txt (line 3)) (0.12.0)\n",
      "Requirement already satisfied: pyproject_hooks in c:\\users\\jessica\\anaconda3\\lib\\site-packages (from build>=1.0.3->chromadb->-r requirements.txt (line 11)) (1.2.0)\n",
      "Requirement already satisfied: colorama in c:\\users\\jessica\\anaconda3\\lib\\site-packages (from build>=1.0.3->chromadb->-r requirements.txt (line 11)) (0.4.6)\n",
      "Requirement already satisfied: marshmallow<4.0.0,>=3.18.0 in c:\\users\\jessica\\anaconda3\\lib\\site-packages (from dataclasses-json<0.6.0,>=0.5.7->langchain==0.0.284->-r requirements.txt (line 1)) (3.21.3)\n",
      "Requirement already satisfied: typing-inspect<1,>=0.4.0 in c:\\users\\jessica\\anaconda3\\lib\\site-packages (from dataclasses-json<0.6.0,>=0.5.7->langchain==0.0.284->-r requirements.txt (line 1)) (0.9.0)\n",
      "Requirement already satisfied: starlette<0.42.0,>=0.40.0 in c:\\users\\jessica\\anaconda3\\lib\\site-packages (from fastapi>=0.95.2->chromadb->-r requirements.txt (line 11)) (0.41.3)\n",
      "Requirement already satisfied: gitdb<5,>=4.0.1 in c:\\users\\jessica\\anaconda3\\lib\\site-packages (from gitpython!=3.1.19->streamlit==1.22.0->-r requirements.txt (line 3)) (4.0.11)\n",
      "Requirement already satisfied: anyio in c:\\users\\jessica\\anaconda3\\lib\\site-packages (from httpx>=0.27.0->chromadb->-r requirements.txt (line 11)) (3.5.0)\n",
      "Requirement already satisfied: certifi in c:\\users\\jessica\\anaconda3\\lib\\site-packages (from httpx>=0.27.0->chromadb->-r requirements.txt (line 11)) (2023.7.22)\n",
      "Requirement already satisfied: httpcore==1.* in c:\\users\\jessica\\anaconda3\\lib\\site-packages (from httpx>=0.27.0->chromadb->-r requirements.txt (line 11)) (1.0.5)\n",
      "Requirement already satisfied: idna in c:\\users\\jessica\\anaconda3\\lib\\site-packages (from httpx>=0.27.0->chromadb->-r requirements.txt (line 11)) (3.4)\n",
      "Requirement already satisfied: sniffio in c:\\users\\jessica\\anaconda3\\lib\\site-packages (from httpx>=0.27.0->chromadb->-r requirements.txt (line 11)) (1.2.0)\n",
      "Requirement already satisfied: h11<0.15,>=0.13 in c:\\users\\jessica\\anaconda3\\lib\\site-packages (from httpcore==1.*->httpx>=0.27.0->chromadb->-r requirements.txt (line 11)) (0.14.0)\n",
      "Requirement already satisfied: filelock in c:\\users\\jessica\\anaconda3\\lib\\site-packages (from huggingface-hub>=0.20.0->sentence-transformers->-r requirements.txt (line 10)) (3.9.0)\n",
      "Requirement already satisfied: fsspec>=2023.5.0 in c:\\users\\jessica\\anaconda3\\lib\\site-packages (from huggingface-hub>=0.20.0->sentence-transformers->-r requirements.txt (line 10)) (2024.10.0)\n",
      "Requirement already satisfied: zipp>=0.5 in c:\\users\\jessica\\anaconda3\\lib\\site-packages (from importlib-metadata>=1.4->streamlit==1.22.0->-r requirements.txt (line 3)) (3.11.0)\n",
      "Requirement already satisfied: six>=1.9.0 in c:\\users\\jessica\\anaconda3\\lib\\site-packages (from kubernetes>=28.1.0->chromadb->-r requirements.txt (line 11)) (1.16.0)\n",
      "Requirement already satisfied: google-auth>=1.0.1 in c:\\users\\jessica\\anaconda3\\lib\\site-packages (from kubernetes>=28.1.0->chromadb->-r requirements.txt (line 11)) (2.36.0)\n",
      "Requirement already satisfied: websocket-client!=0.40.0,!=0.41.*,!=0.42.*,>=0.32.0 in c:\\users\\jessica\\anaconda3\\lib\\site-packages (from kubernetes>=28.1.0->chromadb->-r requirements.txt (line 11)) (0.58.0)\n",
      "Requirement already satisfied: requests-oauthlib in c:\\users\\jessica\\anaconda3\\lib\\site-packages (from kubernetes>=28.1.0->chromadb->-r requirements.txt (line 11)) (2.0.0)\n",
      "Requirement already satisfied: oauthlib>=3.2.2 in c:\\users\\jessica\\anaconda3\\lib\\site-packages (from kubernetes>=28.1.0->chromadb->-r requirements.txt (line 11)) (3.2.2)\n",
      "Requirement already satisfied: urllib3>=1.24.2 in c:\\users\\jessica\\anaconda3\\lib\\site-packages (from kubernetes>=28.1.0->chromadb->-r requirements.txt (line 11)) (1.26.16)\n",
      "Requirement already satisfied: durationpy>=0.7 in c:\\users\\jessica\\anaconda3\\lib\\site-packages (from kubernetes>=28.1.0->chromadb->-r requirements.txt (line 11)) (0.9)\n",
      "Requirement already satisfied: coloredlogs in c:\\users\\jessica\\anaconda3\\lib\\site-packages (from onnxruntime>=1.14.1->chromadb->-r requirements.txt (line 11)) (15.0.1)\n",
      "Requirement already satisfied: flatbuffers in c:\\users\\jessica\\anaconda3\\lib\\site-packages (from onnxruntime>=1.14.1->chromadb->-r requirements.txt (line 11)) (24.3.25)\n",
      "Requirement already satisfied: sympy in c:\\users\\jessica\\anaconda3\\lib\\site-packages (from onnxruntime>=1.14.1->chromadb->-r requirements.txt (line 11)) (1.13.1)\n",
      "Requirement already satisfied: deprecated>=1.2.6 in c:\\users\\jessica\\anaconda3\\lib\\site-packages (from opentelemetry-api>=1.2.0->chromadb->-r requirements.txt (line 11)) (1.2.15)\n",
      "Requirement already satisfied: googleapis-common-protos~=1.52 in c:\\users\\jessica\\anaconda3\\lib\\site-packages (from opentelemetry-exporter-otlp-proto-grpc>=1.2.0->chromadb->-r requirements.txt (line 11)) (1.63.1)\n",
      "Requirement already satisfied: opentelemetry-exporter-otlp-proto-common==1.27.0 in c:\\users\\jessica\\anaconda3\\lib\\site-packages (from opentelemetry-exporter-otlp-proto-grpc>=1.2.0->chromadb->-r requirements.txt (line 11)) (1.27.0)\n",
      "Requirement already satisfied: opentelemetry-proto==1.27.0 in c:\\users\\jessica\\anaconda3\\lib\\site-packages (from opentelemetry-exporter-otlp-proto-grpc>=1.2.0->chromadb->-r requirements.txt (line 11)) (1.27.0)\n",
      "Requirement already satisfied: opentelemetry-instrumentation-asgi==0.48b0 in c:\\users\\jessica\\anaconda3\\lib\\site-packages (from opentelemetry-instrumentation-fastapi>=0.41b0->chromadb->-r requirements.txt (line 11)) (0.48b0)\n",
      "Requirement already satisfied: opentelemetry-instrumentation==0.48b0 in c:\\users\\jessica\\anaconda3\\lib\\site-packages (from opentelemetry-instrumentation-fastapi>=0.41b0->chromadb->-r requirements.txt (line 11)) (0.48b0)\n",
      "Requirement already satisfied: opentelemetry-semantic-conventions==0.48b0 in c:\\users\\jessica\\anaconda3\\lib\\site-packages (from opentelemetry-instrumentation-fastapi>=0.41b0->chromadb->-r requirements.txt (line 11)) (0.48b0)\n",
      "Requirement already satisfied: opentelemetry-util-http==0.48b0 in c:\\users\\jessica\\anaconda3\\lib\\site-packages (from opentelemetry-instrumentation-fastapi>=0.41b0->chromadb->-r requirements.txt (line 11)) (0.48b0)\n",
      "Requirement already satisfied: setuptools>=16.0 in c:\\users\\jessica\\anaconda3\\lib\\site-packages (from opentelemetry-instrumentation==0.48b0->opentelemetry-instrumentation-fastapi>=0.41b0->chromadb->-r requirements.txt (line 11)) (68.0.0)\n",
      "Requirement already satisfied: wrapt<2.0.0,>=1.0.0 in c:\\users\\jessica\\anaconda3\\lib\\site-packages (from opentelemetry-instrumentation==0.48b0->opentelemetry-instrumentation-fastapi>=0.41b0->chromadb->-r requirements.txt (line 11)) (1.14.1)\n",
      "Requirement already satisfied: asgiref~=3.0 in c:\\users\\jessica\\anaconda3\\lib\\site-packages (from opentelemetry-instrumentation-asgi==0.48b0->opentelemetry-instrumentation-fastapi>=0.41b0->chromadb->-r requirements.txt (line 11)) (3.8.1)\n",
      "Requirement already satisfied: pytz>=2020.1 in c:\\users\\jessica\\anaconda3\\lib\\site-packages (from pandas<3,>=0.25->streamlit==1.22.0->-r requirements.txt (line 3)) (2023.3.post1)\n",
      "Requirement already satisfied: tzdata>=2022.1 in c:\\users\\jessica\\anaconda3\\lib\\site-packages (from pandas<3,>=0.25->streamlit==1.22.0->-r requirements.txt (line 3)) (2023.3)\n",
      "Requirement already satisfied: monotonic>=1.5 in c:\\users\\jessica\\anaconda3\\lib\\site-packages (from posthog>=2.4.0->chromadb->-r requirements.txt (line 11)) (1.6)\n",
      "Requirement already satisfied: backoff>=1.10.0 in c:\\users\\jessica\\anaconda3\\lib\\site-packages (from posthog>=2.4.0->chromadb->-r requirements.txt (line 11)) (2.2.1)\n",
      "Requirement already satisfied: annotated-types>=0.6.0 in c:\\users\\jessica\\anaconda3\\lib\\site-packages (from pydantic<3,>=1->langchain==0.0.284->-r requirements.txt (line 1)) (0.7.0)\n",
      "Requirement already satisfied: pydantic-core==2.23.4 in c:\\users\\jessica\\anaconda3\\lib\\site-packages (from pydantic<3,>=1->langchain==0.0.284->-r requirements.txt (line 1)) (2.23.4)\n",
      "Requirement already satisfied: pywin32>=226 in c:\\users\\jessica\\anaconda3\\lib\\site-packages (from pympler>=0.9->streamlit==1.22.0->-r requirements.txt (line 3)) (305.1)\n",
      "Requirement already satisfied: markdown-it-py>=2.2.0 in c:\\users\\jessica\\anaconda3\\lib\\site-packages (from rich>=10.11.0->streamlit==1.22.0->-r requirements.txt (line 3)) (2.2.0)\n",
      "Requirement already satisfied: pygments<3.0.0,>=2.13.0 in c:\\users\\jessica\\anaconda3\\lib\\site-packages (from rich>=10.11.0->streamlit==1.22.0->-r requirements.txt (line 3)) (2.15.1)\n",
      "Requirement already satisfied: greenlet!=0.4.17 in c:\\users\\jessica\\anaconda3\\lib\\site-packages (from SQLAlchemy<3,>=1.4->langchain==0.0.284->-r requirements.txt (line 1)) (2.0.1)\n",
      "Requirement already satisfied: networkx in c:\\users\\jessica\\anaconda3\\lib\\site-packages (from torch>=1.11.0->sentence-transformers->-r requirements.txt (line 10)) (3.1)\n",
      "Requirement already satisfied: mpmath<1.4,>=1.1.0 in c:\\users\\jessica\\anaconda3\\lib\\site-packages (from sympy->onnxruntime>=1.14.1->chromadb->-r requirements.txt (line 11)) (1.3.0)\n",
      "Requirement already satisfied: safetensors>=0.4.1 in c:\\users\\jessica\\anaconda3\\lib\\site-packages (from transformers<5.0.0,>=4.41.0->sentence-transformers->-r requirements.txt (line 10)) (0.4.5)\n",
      "Requirement already satisfied: shellingham>=1.3.0 in c:\\users\\jessica\\anaconda3\\lib\\site-packages (from typer>=0.9.0->chromadb->-r requirements.txt (line 11)) (1.5.4)\n",
      "Requirement already satisfied: httptools>=0.6.3 in c:\\users\\jessica\\anaconda3\\lib\\site-packages (from uvicorn[standard]>=0.18.3->chromadb->-r requirements.txt (line 11)) (0.6.4)\n",
      "Requirement already satisfied: watchfiles>=0.13 in c:\\users\\jessica\\anaconda3\\lib\\site-packages (from uvicorn[standard]>=0.18.3->chromadb->-r requirements.txt (line 11)) (1.0.0)\n",
      "Requirement already satisfied: websockets>=10.4 in c:\\users\\jessica\\anaconda3\\lib\\site-packages (from uvicorn[standard]>=0.18.3->chromadb->-r requirements.txt (line 11)) (14.1)\n",
      "Requirement already satisfied: joblib>=1.1.1 in c:\\users\\jessica\\anaconda3\\lib\\site-packages (from scikit-learn->sentence-transformers->-r requirements.txt (line 10)) (1.2.0)\n",
      "Requirement already satisfied: threadpoolctl>=2.0.0 in c:\\users\\jessica\\anaconda3\\lib\\site-packages (from scikit-learn->sentence-transformers->-r requirements.txt (line 10)) (2.2.0)\n",
      "Requirement already satisfied: smmap<6,>=3.0.1 in c:\\users\\jessica\\anaconda3\\lib\\site-packages (from gitdb<5,>=4.0.1->gitpython!=3.1.19->streamlit==1.22.0->-r requirements.txt (line 3)) (5.0.1)\n",
      "Requirement already satisfied: pyasn1-modules>=0.2.1 in c:\\users\\jessica\\anaconda3\\lib\\site-packages (from google-auth>=1.0.1->kubernetes>=28.1.0->chromadb->-r requirements.txt (line 11)) (0.2.8)\n",
      "Requirement already satisfied: rsa<5,>=3.1.4 in c:\\users\\jessica\\anaconda3\\lib\\site-packages (from google-auth>=1.0.1->kubernetes>=28.1.0->chromadb->-r requirements.txt (line 11)) (4.9)\n",
      "Requirement already satisfied: MarkupSafe>=2.0 in c:\\users\\jessica\\anaconda3\\lib\\site-packages (from jinja2->altair<5,>=3.2.0->streamlit==1.22.0->-r requirements.txt (line 3)) (2.1.1)\n",
      "Requirement already satisfied: pyrsistent!=0.17.0,!=0.17.1,!=0.17.2,>=0.14.0 in c:\\users\\jessica\\anaconda3\\lib\\site-packages (from jsonschema>=3.0->altair<5,>=3.2.0->streamlit==1.22.0->-r requirements.txt (line 3)) (0.18.0)\n",
      "Requirement already satisfied: mdurl~=0.1 in c:\\users\\jessica\\anaconda3\\lib\\site-packages (from markdown-it-py>=2.2.0->rich>=10.11.0->streamlit==1.22.0->-r requirements.txt (line 3)) (0.1.0)\n",
      "Requirement already satisfied: mypy-extensions>=0.3.0 in c:\\users\\jessica\\anaconda3\\lib\\site-packages (from typing-inspect<1,>=0.4.0->dataclasses-json<0.6.0,>=0.5.7->langchain==0.0.284->-r requirements.txt (line 1)) (1.0.0)\n",
      "Requirement already satisfied: humanfriendly>=9.1 in c:\\users\\jessica\\anaconda3\\lib\\site-packages (from coloredlogs->onnxruntime>=1.14.1->chromadb->-r requirements.txt (line 11)) (10.0)\n",
      "Requirement already satisfied: pyreadline3 in c:\\users\\jessica\\anaconda3\\lib\\site-packages (from humanfriendly>=9.1->coloredlogs->onnxruntime>=1.14.1->chromadb->-r requirements.txt (line 11)) (3.5.4)\n",
      "Requirement already satisfied: pyasn1<0.5.0,>=0.4.6 in c:\\users\\jessica\\anaconda3\\lib\\site-packages (from pyasn1-modules>=0.2.1->google-auth>=1.0.1->kubernetes>=28.1.0->chromadb->-r requirements.txt (line 11)) (0.4.8)\n",
      "Using cached langchain-0.0.284-py3-none-any.whl (1.7 MB)\n",
      "Using cached protobuf-3.19.6-py2.py3-none-any.whl (162 kB)\n",
      "Using cached langsmith-0.0.92-py3-none-any.whl (56 kB)\n",
      "Installing collected packages: protobuf, langsmith, langchain\n",
      "  Attempting uninstall: protobuf\n",
      "    Found existing installation: protobuf 5.28.3\n",
      "    Uninstalling protobuf-5.28.3:\n",
      "      Successfully uninstalled protobuf-5.28.3\n",
      "  Attempting uninstall: langsmith\n",
      "    Found existing installation: langsmith 0.1.146\n",
      "    Uninstalling langsmith-0.1.146:\n",
      "      Successfully uninstalled langsmith-0.1.146\n",
      "  Attempting uninstall: langchain\n",
      "    Found existing installation: langchain 0.3.8\n",
      "    Uninstalling langchain-0.3.8:\n",
      "      Successfully uninstalled langchain-0.3.8\n",
      "Successfully installed langchain-0.0.284 langsmith-0.0.92 protobuf-3.19.6\n"
     ]
    },
    {
     "name": "stderr",
     "output_type": "stream",
     "text": [
      "ERROR: pip's dependency resolver does not currently take into account all the packages that are installed. This behaviour is the source of the following dependency conflicts.\n",
      "google-ai-generativelanguage 0.6.10 requires protobuf!=4.21.0,!=4.21.1,!=4.21.2,!=4.21.3,!=4.21.4,!=4.21.5,<6.0.0dev,>=3.20.2, but you have protobuf 3.19.6 which is incompatible.\n",
      "grpcio-status 1.68.0 requires protobuf<6.0dev,>=5.26.1, but you have protobuf 3.19.6 which is incompatible.\n",
      "langchain-community 0.3.8 requires langchain<0.4.0,>=0.3.8, but you have langchain 0.0.284 which is incompatible.\n",
      "langchain-community 0.3.8 requires langsmith<0.2.0,>=0.1.125, but you have langsmith 0.0.92 which is incompatible.\n",
      "langchain-core 0.3.21 requires langsmith<0.2.0,>=0.1.125, but you have langsmith 0.0.92 which is incompatible.\n",
      "langchain-openai 0.1.9 requires langchain-core<0.3,>=0.2.2, but you have langchain-core 0.3.21 which is incompatible.\n",
      "langchain-openai 0.1.9 requires tiktoken<1,>=0.7, but you have tiktoken 0.4.0 which is incompatible.\n"
     ]
    },
    {
     "name": "stdout",
     "output_type": "stream",
     "text": [
      "Requirement already satisfied: langchain in c:\\users\\jessica\\anaconda3\\lib\\site-packages (0.0.284)\n",
      "Collecting langchain\n",
      "  Obtaining dependency information for langchain from https://files.pythonhosted.org/packages/b9/87/d9a71b915b854fb2f343fd69aa977a531bb66ee01cddaa5e06a0edcdb97b/langchain-0.3.8-py3-none-any.whl.metadata\n",
      "  Using cached langchain-0.3.8-py3-none-any.whl.metadata (7.1 kB)\n",
      "Requirement already satisfied: PyYAML>=5.3 in c:\\users\\jessica\\anaconda3\\lib\\site-packages (from langchain) (6.0)\n",
      "Requirement already satisfied: SQLAlchemy<3,>=1.4 in c:\\users\\jessica\\anaconda3\\lib\\site-packages (from langchain) (1.4.39)\n",
      "Requirement already satisfied: aiohttp<4.0.0,>=3.8.3 in c:\\users\\jessica\\anaconda3\\lib\\site-packages (from langchain) (3.8.5)\n",
      "Requirement already satisfied: langchain-core<0.4.0,>=0.3.21 in c:\\users\\jessica\\anaconda3\\lib\\site-packages (from langchain) (0.3.21)\n",
      "Requirement already satisfied: langchain-text-splitters<0.4.0,>=0.3.0 in c:\\users\\jessica\\anaconda3\\lib\\site-packages (from langchain) (0.3.2)\n",
      "Collecting langsmith<0.2.0,>=0.1.17 (from langchain)\n",
      "  Obtaining dependency information for langsmith<0.2.0,>=0.1.17 from https://files.pythonhosted.org/packages/a8/28/d918170516d87a8d1ae084c014983e1464b6c9ff5ae98c6832af8cde4913/langsmith-0.1.146-py3-none-any.whl.metadata\n",
      "  Using cached langsmith-0.1.146-py3-none-any.whl.metadata (14 kB)\n",
      "Requirement already satisfied: numpy<2,>=1.22.4 in c:\\users\\jessica\\anaconda3\\lib\\site-packages (from langchain) (1.24.3)\n",
      "Requirement already satisfied: pydantic<3.0.0,>=2.7.4 in c:\\users\\jessica\\anaconda3\\lib\\site-packages (from langchain) (2.9.2)\n",
      "Requirement already satisfied: requests<3,>=2 in c:\\users\\jessica\\anaconda3\\lib\\site-packages (from langchain) (2.31.0)\n",
      "Requirement already satisfied: tenacity!=8.4.0,<10,>=8.1.0 in c:\\users\\jessica\\anaconda3\\lib\\site-packages (from langchain) (8.5.0)\n",
      "Requirement already satisfied: attrs>=17.3.0 in c:\\users\\jessica\\anaconda3\\lib\\site-packages (from aiohttp<4.0.0,>=3.8.3->langchain) (22.1.0)\n",
      "Requirement already satisfied: charset-normalizer<4.0,>=2.0 in c:\\users\\jessica\\anaconda3\\lib\\site-packages (from aiohttp<4.0.0,>=3.8.3->langchain) (2.0.4)\n",
      "Requirement already satisfied: multidict<7.0,>=4.5 in c:\\users\\jessica\\anaconda3\\lib\\site-packages (from aiohttp<4.0.0,>=3.8.3->langchain) (6.0.2)\n",
      "Requirement already satisfied: async-timeout<5.0,>=4.0.0a3 in c:\\users\\jessica\\anaconda3\\lib\\site-packages (from aiohttp<4.0.0,>=3.8.3->langchain) (4.0.2)\n",
      "Requirement already satisfied: yarl<2.0,>=1.0 in c:\\users\\jessica\\anaconda3\\lib\\site-packages (from aiohttp<4.0.0,>=3.8.3->langchain) (1.8.1)\n",
      "Requirement already satisfied: frozenlist>=1.1.1 in c:\\users\\jessica\\anaconda3\\lib\\site-packages (from aiohttp<4.0.0,>=3.8.3->langchain) (1.3.3)\n",
      "Requirement already satisfied: aiosignal>=1.1.2 in c:\\users\\jessica\\anaconda3\\lib\\site-packages (from aiohttp<4.0.0,>=3.8.3->langchain) (1.2.0)\n",
      "Requirement already satisfied: jsonpatch<2.0,>=1.33 in c:\\users\\jessica\\anaconda3\\lib\\site-packages (from langchain-core<0.4.0,>=0.3.21->langchain) (1.33)\n",
      "Requirement already satisfied: packaging<25,>=23.2 in c:\\users\\jessica\\anaconda3\\lib\\site-packages (from langchain-core<0.4.0,>=0.3.21->langchain) (24.1)\n",
      "Requirement already satisfied: typing-extensions>=4.7 in c:\\users\\jessica\\anaconda3\\lib\\site-packages (from langchain-core<0.4.0,>=0.3.21->langchain) (4.12.2)\n",
      "Requirement already satisfied: httpx<1,>=0.23.0 in c:\\users\\jessica\\anaconda3\\lib\\site-packages (from langsmith<0.2.0,>=0.1.17->langchain) (0.27.0)\n",
      "Requirement already satisfied: orjson<4.0.0,>=3.9.14 in c:\\users\\jessica\\anaconda3\\lib\\site-packages (from langsmith<0.2.0,>=0.1.17->langchain) (3.10.5)\n",
      "Requirement already satisfied: requests-toolbelt<2.0.0,>=1.0.0 in c:\\users\\jessica\\anaconda3\\lib\\site-packages (from langsmith<0.2.0,>=0.1.17->langchain) (1.0.0)\n",
      "Requirement already satisfied: annotated-types>=0.6.0 in c:\\users\\jessica\\anaconda3\\lib\\site-packages (from pydantic<3.0.0,>=2.7.4->langchain) (0.7.0)\n",
      "Requirement already satisfied: pydantic-core==2.23.4 in c:\\users\\jessica\\anaconda3\\lib\\site-packages (from pydantic<3.0.0,>=2.7.4->langchain) (2.23.4)\n",
      "Requirement already satisfied: idna<4,>=2.5 in c:\\users\\jessica\\anaconda3\\lib\\site-packages (from requests<3,>=2->langchain) (3.4)\n",
      "Requirement already satisfied: urllib3<3,>=1.21.1 in c:\\users\\jessica\\anaconda3\\lib\\site-packages (from requests<3,>=2->langchain) (1.26.16)\n",
      "Requirement already satisfied: certifi>=2017.4.17 in c:\\users\\jessica\\anaconda3\\lib\\site-packages (from requests<3,>=2->langchain) (2023.7.22)\n",
      "Requirement already satisfied: greenlet!=0.4.17 in c:\\users\\jessica\\anaconda3\\lib\\site-packages (from SQLAlchemy<3,>=1.4->langchain) (2.0.1)\n",
      "Requirement already satisfied: anyio in c:\\users\\jessica\\anaconda3\\lib\\site-packages (from httpx<1,>=0.23.0->langsmith<0.2.0,>=0.1.17->langchain) (3.5.0)\n",
      "Requirement already satisfied: httpcore==1.* in c:\\users\\jessica\\anaconda3\\lib\\site-packages (from httpx<1,>=0.23.0->langsmith<0.2.0,>=0.1.17->langchain) (1.0.5)\n",
      "Requirement already satisfied: sniffio in c:\\users\\jessica\\anaconda3\\lib\\site-packages (from httpx<1,>=0.23.0->langsmith<0.2.0,>=0.1.17->langchain) (1.2.0)\n",
      "Requirement already satisfied: h11<0.15,>=0.13 in c:\\users\\jessica\\anaconda3\\lib\\site-packages (from httpcore==1.*->httpx<1,>=0.23.0->langsmith<0.2.0,>=0.1.17->langchain) (0.14.0)\n",
      "Requirement already satisfied: jsonpointer>=1.9 in c:\\users\\jessica\\anaconda3\\lib\\site-packages (from jsonpatch<2.0,>=1.33->langchain-core<0.4.0,>=0.3.21->langchain) (2.1)\n",
      "Using cached langchain-0.3.8-py3-none-any.whl (1.0 MB)\n",
      "Using cached langsmith-0.1.146-py3-none-any.whl (311 kB)\n",
      "Installing collected packages: langsmith, langchain\n",
      "  Attempting uninstall: langsmith\n",
      "    Found existing installation: langsmith 0.0.92\n",
      "    Uninstalling langsmith-0.0.92:\n",
      "      Successfully uninstalled langsmith-0.0.92\n",
      "  Attempting uninstall: langchain\n",
      "    Found existing installation: langchain 0.0.284\n",
      "    Uninstalling langchain-0.0.284:\n",
      "      Successfully uninstalled langchain-0.0.284\n",
      "Successfully installed langchain-0.3.8 langsmith-0.1.146\n"
     ]
    },
    {
     "name": "stderr",
     "output_type": "stream",
     "text": [
      "ERROR: pip's dependency resolver does not currently take into account all the packages that are installed. This behaviour is the source of the following dependency conflicts.\n",
      "langchain-openai 0.1.9 requires langchain-core<0.3,>=0.2.2, but you have langchain-core 0.3.21 which is incompatible.\n",
      "langchain-openai 0.1.9 requires tiktoken<1,>=0.7, but you have tiktoken 0.4.0 which is incompatible.\n"
     ]
    },
    {
     "name": "stdout",
     "output_type": "stream",
     "text": [
      "Requirement already satisfied: langchain in c:\\users\\jessica\\anaconda3\\lib\\site-packages (0.3.8)\n",
      "Requirement already satisfied: langchain-experimental in c:\\users\\jessica\\anaconda3\\lib\\site-packages (0.0.25)\n",
      "Requirement already satisfied: langchain-google-genai in c:\\users\\jessica\\anaconda3\\lib\\site-packages (2.0.5)\n",
      "Requirement already satisfied: PyYAML>=5.3 in c:\\users\\jessica\\anaconda3\\lib\\site-packages (from langchain) (6.0)\n",
      "Requirement already satisfied: SQLAlchemy<3,>=1.4 in c:\\users\\jessica\\anaconda3\\lib\\site-packages (from langchain) (1.4.39)\n",
      "Requirement already satisfied: aiohttp<4.0.0,>=3.8.3 in c:\\users\\jessica\\anaconda3\\lib\\site-packages (from langchain) (3.8.5)\n",
      "Requirement already satisfied: langchain-core<0.4.0,>=0.3.21 in c:\\users\\jessica\\anaconda3\\lib\\site-packages (from langchain) (0.3.21)\n",
      "Requirement already satisfied: langchain-text-splitters<0.4.0,>=0.3.0 in c:\\users\\jessica\\anaconda3\\lib\\site-packages (from langchain) (0.3.2)\n",
      "Requirement already satisfied: langsmith<0.2.0,>=0.1.17 in c:\\users\\jessica\\anaconda3\\lib\\site-packages (from langchain) (0.1.146)\n",
      "Requirement already satisfied: numpy<2,>=1.22.4 in c:\\users\\jessica\\anaconda3\\lib\\site-packages (from langchain) (1.24.3)\n",
      "Requirement already satisfied: pydantic<3.0.0,>=2.7.4 in c:\\users\\jessica\\anaconda3\\lib\\site-packages (from langchain) (2.9.2)\n",
      "Requirement already satisfied: requests<3,>=2 in c:\\users\\jessica\\anaconda3\\lib\\site-packages (from langchain) (2.31.0)\n",
      "Requirement already satisfied: tenacity!=8.4.0,<10,>=8.1.0 in c:\\users\\jessica\\anaconda3\\lib\\site-packages (from langchain) (8.5.0)\n",
      "Requirement already satisfied: google-generativeai<0.9.0,>=0.8.0 in c:\\users\\jessica\\anaconda3\\lib\\site-packages (from langchain-google-genai) (0.8.3)\n",
      "Requirement already satisfied: attrs>=17.3.0 in c:\\users\\jessica\\anaconda3\\lib\\site-packages (from aiohttp<4.0.0,>=3.8.3->langchain) (22.1.0)\n",
      "Requirement already satisfied: charset-normalizer<4.0,>=2.0 in c:\\users\\jessica\\anaconda3\\lib\\site-packages (from aiohttp<4.0.0,>=3.8.3->langchain) (2.0.4)\n",
      "Requirement already satisfied: multidict<7.0,>=4.5 in c:\\users\\jessica\\anaconda3\\lib\\site-packages (from aiohttp<4.0.0,>=3.8.3->langchain) (6.0.2)\n",
      "Requirement already satisfied: async-timeout<5.0,>=4.0.0a3 in c:\\users\\jessica\\anaconda3\\lib\\site-packages (from aiohttp<4.0.0,>=3.8.3->langchain) (4.0.2)\n",
      "Requirement already satisfied: yarl<2.0,>=1.0 in c:\\users\\jessica\\anaconda3\\lib\\site-packages (from aiohttp<4.0.0,>=3.8.3->langchain) (1.8.1)\n",
      "Requirement already satisfied: frozenlist>=1.1.1 in c:\\users\\jessica\\anaconda3\\lib\\site-packages (from aiohttp<4.0.0,>=3.8.3->langchain) (1.3.3)\n",
      "Requirement already satisfied: aiosignal>=1.1.2 in c:\\users\\jessica\\anaconda3\\lib\\site-packages (from aiohttp<4.0.0,>=3.8.3->langchain) (1.2.0)\n",
      "Requirement already satisfied: google-ai-generativelanguage==0.6.10 in c:\\users\\jessica\\anaconda3\\lib\\site-packages (from google-generativeai<0.9.0,>=0.8.0->langchain-google-genai) (0.6.10)\n",
      "Requirement already satisfied: google-api-core in c:\\users\\jessica\\anaconda3\\lib\\site-packages (from google-generativeai<0.9.0,>=0.8.0->langchain-google-genai) (2.23.0)\n",
      "Requirement already satisfied: google-api-python-client in c:\\users\\jessica\\anaconda3\\lib\\site-packages (from google-generativeai<0.9.0,>=0.8.0->langchain-google-genai) (2.154.0)\n",
      "Requirement already satisfied: google-auth>=2.15.0 in c:\\users\\jessica\\anaconda3\\lib\\site-packages (from google-generativeai<0.9.0,>=0.8.0->langchain-google-genai) (2.36.0)\n",
      "Requirement already satisfied: protobuf in c:\\users\\jessica\\anaconda3\\lib\\site-packages (from google-generativeai<0.9.0,>=0.8.0->langchain-google-genai) (3.19.6)\n",
      "Requirement already satisfied: tqdm in c:\\users\\jessica\\anaconda3\\lib\\site-packages (from google-generativeai<0.9.0,>=0.8.0->langchain-google-genai) (4.65.0)\n",
      "Requirement already satisfied: typing-extensions in c:\\users\\jessica\\anaconda3\\lib\\site-packages (from google-generativeai<0.9.0,>=0.8.0->langchain-google-genai) (4.12.2)\n",
      "Requirement already satisfied: proto-plus<2.0.0dev,>=1.22.3 in c:\\users\\jessica\\anaconda3\\lib\\site-packages (from google-ai-generativelanguage==0.6.10->google-generativeai<0.9.0,>=0.8.0->langchain-google-genai) (1.25.0)\n",
      "Collecting protobuf (from google-generativeai<0.9.0,>=0.8.0->langchain-google-genai)\n",
      "  Obtaining dependency information for protobuf from https://files.pythonhosted.org/packages/9c/4c/4563ebe001ff30dca9d7ed12e471fa098d9759712980cde1fd03a3a44fb7/protobuf-5.28.3-cp310-abi3-win_amd64.whl.metadata\n",
      "  Using cached protobuf-5.28.3-cp310-abi3-win_amd64.whl.metadata (592 bytes)\n",
      "Requirement already satisfied: jsonpatch<2.0,>=1.33 in c:\\users\\jessica\\anaconda3\\lib\\site-packages (from langchain-core<0.4.0,>=0.3.21->langchain) (1.33)\n",
      "Requirement already satisfied: packaging<25,>=23.2 in c:\\users\\jessica\\anaconda3\\lib\\site-packages (from langchain-core<0.4.0,>=0.3.21->langchain) (24.1)\n",
      "Requirement already satisfied: httpx<1,>=0.23.0 in c:\\users\\jessica\\anaconda3\\lib\\site-packages (from langsmith<0.2.0,>=0.1.17->langchain) (0.27.0)\n",
      "Requirement already satisfied: orjson<4.0.0,>=3.9.14 in c:\\users\\jessica\\anaconda3\\lib\\site-packages (from langsmith<0.2.0,>=0.1.17->langchain) (3.10.5)\n",
      "Requirement already satisfied: requests-toolbelt<2.0.0,>=1.0.0 in c:\\users\\jessica\\anaconda3\\lib\\site-packages (from langsmith<0.2.0,>=0.1.17->langchain) (1.0.0)\n",
      "Requirement already satisfied: annotated-types>=0.6.0 in c:\\users\\jessica\\anaconda3\\lib\\site-packages (from pydantic<3.0.0,>=2.7.4->langchain) (0.7.0)\n",
      "Requirement already satisfied: pydantic-core==2.23.4 in c:\\users\\jessica\\anaconda3\\lib\\site-packages (from pydantic<3.0.0,>=2.7.4->langchain) (2.23.4)\n",
      "Requirement already satisfied: idna<4,>=2.5 in c:\\users\\jessica\\anaconda3\\lib\\site-packages (from requests<3,>=2->langchain) (3.4)\n",
      "Requirement already satisfied: urllib3<3,>=1.21.1 in c:\\users\\jessica\\anaconda3\\lib\\site-packages (from requests<3,>=2->langchain) (1.26.16)\n",
      "Requirement already satisfied: certifi>=2017.4.17 in c:\\users\\jessica\\anaconda3\\lib\\site-packages (from requests<3,>=2->langchain) (2023.7.22)\n",
      "Requirement already satisfied: greenlet!=0.4.17 in c:\\users\\jessica\\anaconda3\\lib\\site-packages (from SQLAlchemy<3,>=1.4->langchain) (2.0.1)\n",
      "Requirement already satisfied: cachetools<6.0,>=2.0.0 in c:\\users\\jessica\\anaconda3\\lib\\site-packages (from google-auth>=2.15.0->google-generativeai<0.9.0,>=0.8.0->langchain-google-genai) (5.5.0)\n",
      "Requirement already satisfied: pyasn1-modules>=0.2.1 in c:\\users\\jessica\\anaconda3\\lib\\site-packages (from google-auth>=2.15.0->google-generativeai<0.9.0,>=0.8.0->langchain-google-genai) (0.2.8)\n",
      "Requirement already satisfied: rsa<5,>=3.1.4 in c:\\users\\jessica\\anaconda3\\lib\\site-packages (from google-auth>=2.15.0->google-generativeai<0.9.0,>=0.8.0->langchain-google-genai) (4.9)\n",
      "Requirement already satisfied: anyio in c:\\users\\jessica\\anaconda3\\lib\\site-packages (from httpx<1,>=0.23.0->langsmith<0.2.0,>=0.1.17->langchain) (3.5.0)\n",
      "Requirement already satisfied: httpcore==1.* in c:\\users\\jessica\\anaconda3\\lib\\site-packages (from httpx<1,>=0.23.0->langsmith<0.2.0,>=0.1.17->langchain) (1.0.5)\n",
      "Requirement already satisfied: sniffio in c:\\users\\jessica\\anaconda3\\lib\\site-packages (from httpx<1,>=0.23.0->langsmith<0.2.0,>=0.1.17->langchain) (1.2.0)\n",
      "Requirement already satisfied: h11<0.15,>=0.13 in c:\\users\\jessica\\anaconda3\\lib\\site-packages (from httpcore==1.*->httpx<1,>=0.23.0->langsmith<0.2.0,>=0.1.17->langchain) (0.14.0)\n",
      "Requirement already satisfied: jsonpointer>=1.9 in c:\\users\\jessica\\anaconda3\\lib\\site-packages (from jsonpatch<2.0,>=1.33->langchain-core<0.4.0,>=0.3.21->langchain) (2.1)\n",
      "Requirement already satisfied: googleapis-common-protos<2.0.dev0,>=1.56.2 in c:\\users\\jessica\\anaconda3\\lib\\site-packages (from google-api-core->google-generativeai<0.9.0,>=0.8.0->langchain-google-genai) (1.63.1)\n",
      "Requirement already satisfied: httplib2<1.dev0,>=0.19.0 in c:\\users\\jessica\\anaconda3\\lib\\site-packages (from google-api-python-client->google-generativeai<0.9.0,>=0.8.0->langchain-google-genai) (0.22.0)\n",
      "Requirement already satisfied: google-auth-httplib2<1.0.0,>=0.2.0 in c:\\users\\jessica\\anaconda3\\lib\\site-packages (from google-api-python-client->google-generativeai<0.9.0,>=0.8.0->langchain-google-genai) (0.2.0)\n",
      "Requirement already satisfied: uritemplate<5,>=3.0.1 in c:\\users\\jessica\\anaconda3\\lib\\site-packages (from google-api-python-client->google-generativeai<0.9.0,>=0.8.0->langchain-google-genai) (4.1.1)\n",
      "Requirement already satisfied: colorama in c:\\users\\jessica\\anaconda3\\lib\\site-packages (from tqdm->google-generativeai<0.9.0,>=0.8.0->langchain-google-genai) (0.4.6)\n",
      "Requirement already satisfied: grpcio<2.0dev,>=1.33.2 in c:\\users\\jessica\\anaconda3\\lib\\site-packages (from google-api-core->google-generativeai<0.9.0,>=0.8.0->langchain-google-genai) (1.68.0)\n",
      "Requirement already satisfied: grpcio-status<2.0.dev0,>=1.33.2 in c:\\users\\jessica\\anaconda3\\lib\\site-packages (from google-api-core->google-generativeai<0.9.0,>=0.8.0->langchain-google-genai) (1.68.0)\n",
      "Requirement already satisfied: pyparsing!=3.0.0,!=3.0.1,!=3.0.2,!=3.0.3,<4,>=2.4.2 in c:\\users\\jessica\\anaconda3\\lib\\site-packages (from httplib2<1.dev0,>=0.19.0->google-api-python-client->google-generativeai<0.9.0,>=0.8.0->langchain-google-genai) (3.0.9)\n",
      "Requirement already satisfied: pyasn1<0.5.0,>=0.4.6 in c:\\users\\jessica\\anaconda3\\lib\\site-packages (from pyasn1-modules>=0.2.1->google-auth>=2.15.0->google-generativeai<0.9.0,>=0.8.0->langchain-google-genai) (0.4.8)\n",
      "Using cached protobuf-5.28.3-cp310-abi3-win_amd64.whl (431 kB)\n",
      "Installing collected packages: protobuf\n",
      "  Attempting uninstall: protobuf\n",
      "    Found existing installation: protobuf 3.19.6\n",
      "    Uninstalling protobuf-3.19.6:\n",
      "      Successfully uninstalled protobuf-3.19.6\n",
      "Successfully installed protobuf-5.28.3\n"
     ]
    },
    {
     "name": "stderr",
     "output_type": "stream",
     "text": [
      "ERROR: pip's dependency resolver does not currently take into account all the packages that are installed. This behaviour is the source of the following dependency conflicts.\n",
      "opentelemetry-proto 1.27.0 requires protobuf<5.0,>=3.19, but you have protobuf 5.28.3 which is incompatible.\n",
      "streamlit 1.22.0 requires protobuf<4,>=3.12, but you have protobuf 5.28.3 which is incompatible.\n"
     ]
    },
    {
     "name": "stdout",
     "output_type": "stream",
     "text": [
      "Requirement already satisfied: pydantic==2.9.2 in c:\\users\\jessica\\anaconda3\\lib\\site-packages (2.9.2)\n",
      "Requirement already satisfied: annotated-types>=0.6.0 in c:\\users\\jessica\\anaconda3\\lib\\site-packages (from pydantic==2.9.2) (0.7.0)\n",
      "Requirement already satisfied: pydantic-core==2.23.4 in c:\\users\\jessica\\anaconda3\\lib\\site-packages (from pydantic==2.9.2) (2.23.4)\n",
      "Requirement already satisfied: typing-extensions>=4.6.1 in c:\\users\\jessica\\anaconda3\\lib\\site-packages (from pydantic==2.9.2) (4.12.2)\n",
      "Requirement already satisfied: sentence_transformers in c:\\users\\jessica\\anaconda3\\lib\\site-packages (3.3.1)\n",
      "Requirement already satisfied: transformers<5.0.0,>=4.41.0 in c:\\users\\jessica\\anaconda3\\lib\\site-packages (from sentence_transformers) (4.46.3)\n",
      "Requirement already satisfied: tqdm in c:\\users\\jessica\\anaconda3\\lib\\site-packages (from sentence_transformers) (4.65.0)\n",
      "Requirement already satisfied: torch>=1.11.0 in c:\\users\\jessica\\anaconda3\\lib\\site-packages (from sentence_transformers) (2.5.1)\n",
      "Requirement already satisfied: scikit-learn in c:\\users\\jessica\\anaconda3\\lib\\site-packages (from sentence_transformers) (1.3.0)\n",
      "Requirement already satisfied: scipy in c:\\users\\jessica\\anaconda3\\lib\\site-packages (from sentence_transformers) (1.11.1)\n",
      "Requirement already satisfied: huggingface-hub>=0.20.0 in c:\\users\\jessica\\anaconda3\\lib\\site-packages (from sentence_transformers) (0.26.2)\n",
      "Requirement already satisfied: Pillow in c:\\users\\jessica\\anaconda3\\lib\\site-packages (from sentence_transformers) (9.4.0)\n",
      "Requirement already satisfied: filelock in c:\\users\\jessica\\anaconda3\\lib\\site-packages (from huggingface-hub>=0.20.0->sentence_transformers) (3.9.0)\n",
      "Requirement already satisfied: fsspec>=2023.5.0 in c:\\users\\jessica\\anaconda3\\lib\\site-packages (from huggingface-hub>=0.20.0->sentence_transformers) (2024.10.0)\n",
      "Requirement already satisfied: packaging>=20.9 in c:\\users\\jessica\\anaconda3\\lib\\site-packages (from huggingface-hub>=0.20.0->sentence_transformers) (24.1)\n",
      "Requirement already satisfied: pyyaml>=5.1 in c:\\users\\jessica\\anaconda3\\lib\\site-packages (from huggingface-hub>=0.20.0->sentence_transformers) (6.0)\n",
      "Requirement already satisfied: requests in c:\\users\\jessica\\anaconda3\\lib\\site-packages (from huggingface-hub>=0.20.0->sentence_transformers) (2.31.0)\n",
      "Requirement already satisfied: typing-extensions>=3.7.4.3 in c:\\users\\jessica\\anaconda3\\lib\\site-packages (from huggingface-hub>=0.20.0->sentence_transformers) (4.12.2)\n",
      "Requirement already satisfied: networkx in c:\\users\\jessica\\anaconda3\\lib\\site-packages (from torch>=1.11.0->sentence_transformers) (3.1)\n",
      "Requirement already satisfied: jinja2 in c:\\users\\jessica\\anaconda3\\lib\\site-packages (from torch>=1.11.0->sentence_transformers) (3.1.2)\n",
      "Requirement already satisfied: sympy==1.13.1 in c:\\users\\jessica\\anaconda3\\lib\\site-packages (from torch>=1.11.0->sentence_transformers) (1.13.1)\n",
      "Requirement already satisfied: mpmath<1.4,>=1.1.0 in c:\\users\\jessica\\anaconda3\\lib\\site-packages (from sympy==1.13.1->torch>=1.11.0->sentence_transformers) (1.3.0)\n",
      "Requirement already satisfied: colorama in c:\\users\\jessica\\anaconda3\\lib\\site-packages (from tqdm->sentence_transformers) (0.4.6)\n",
      "Requirement already satisfied: numpy>=1.17 in c:\\users\\jessica\\anaconda3\\lib\\site-packages (from transformers<5.0.0,>=4.41.0->sentence_transformers) (1.24.3)\n",
      "Requirement already satisfied: regex!=2019.12.17 in c:\\users\\jessica\\anaconda3\\lib\\site-packages (from transformers<5.0.0,>=4.41.0->sentence_transformers) (2022.7.9)\n",
      "Requirement already satisfied: tokenizers<0.21,>=0.20 in c:\\users\\jessica\\anaconda3\\lib\\site-packages (from transformers<5.0.0,>=4.41.0->sentence_transformers) (0.20.4)\n",
      "Requirement already satisfied: safetensors>=0.4.1 in c:\\users\\jessica\\anaconda3\\lib\\site-packages (from transformers<5.0.0,>=4.41.0->sentence_transformers) (0.4.5)\n",
      "Requirement already satisfied: joblib>=1.1.1 in c:\\users\\jessica\\anaconda3\\lib\\site-packages (from scikit-learn->sentence_transformers) (1.2.0)\n",
      "Requirement already satisfied: threadpoolctl>=2.0.0 in c:\\users\\jessica\\anaconda3\\lib\\site-packages (from scikit-learn->sentence_transformers) (2.2.0)\n",
      "Requirement already satisfied: MarkupSafe>=2.0 in c:\\users\\jessica\\anaconda3\\lib\\site-packages (from jinja2->torch>=1.11.0->sentence_transformers) (2.1.1)\n",
      "Requirement already satisfied: charset-normalizer<4,>=2 in c:\\users\\jessica\\anaconda3\\lib\\site-packages (from requests->huggingface-hub>=0.20.0->sentence_transformers) (2.0.4)\n",
      "Requirement already satisfied: idna<4,>=2.5 in c:\\users\\jessica\\anaconda3\\lib\\site-packages (from requests->huggingface-hub>=0.20.0->sentence_transformers) (3.4)\n",
      "Requirement already satisfied: urllib3<3,>=1.21.1 in c:\\users\\jessica\\anaconda3\\lib\\site-packages (from requests->huggingface-hub>=0.20.0->sentence_transformers) (1.26.16)\n",
      "Requirement already satisfied: certifi>=2017.4.17 in c:\\users\\jessica\\anaconda3\\lib\\site-packages (from requests->huggingface-hub>=0.20.0->sentence_transformers) (2023.7.22)\n",
      "Requirement already satisfied: chromadb in c:\\users\\jessica\\anaconda3\\lib\\site-packages (0.5.20)\n",
      "Requirement already satisfied: build>=1.0.3 in c:\\users\\jessica\\anaconda3\\lib\\site-packages (from chromadb) (1.2.2.post1)\n",
      "Requirement already satisfied: pydantic>=1.9 in c:\\users\\jessica\\anaconda3\\lib\\site-packages (from chromadb) (2.9.2)\n",
      "Requirement already satisfied: chroma-hnswlib==0.7.6 in c:\\users\\jessica\\anaconda3\\lib\\site-packages (from chromadb) (0.7.6)\n",
      "Requirement already satisfied: fastapi>=0.95.2 in c:\\users\\jessica\\anaconda3\\lib\\site-packages (from chromadb) (0.115.5)\n",
      "Requirement already satisfied: uvicorn[standard]>=0.18.3 in c:\\users\\jessica\\anaconda3\\lib\\site-packages (from chromadb) (0.32.1)\n",
      "Requirement already satisfied: numpy>=1.22.5 in c:\\users\\jessica\\anaconda3\\lib\\site-packages (from chromadb) (1.24.3)\n",
      "Requirement already satisfied: posthog>=2.4.0 in c:\\users\\jessica\\anaconda3\\lib\\site-packages (from chromadb) (3.7.3)\n",
      "Requirement already satisfied: typing-extensions>=4.5.0 in c:\\users\\jessica\\anaconda3\\lib\\site-packages (from chromadb) (4.12.2)\n",
      "Requirement already satisfied: onnxruntime>=1.14.1 in c:\\users\\jessica\\anaconda3\\lib\\site-packages (from chromadb) (1.20.1)\n",
      "Requirement already satisfied: opentelemetry-api>=1.2.0 in c:\\users\\jessica\\anaconda3\\lib\\site-packages (from chromadb) (1.27.0)\n",
      "Requirement already satisfied: opentelemetry-exporter-otlp-proto-grpc>=1.2.0 in c:\\users\\jessica\\anaconda3\\lib\\site-packages (from chromadb) (1.27.0)\n",
      "Requirement already satisfied: opentelemetry-instrumentation-fastapi>=0.41b0 in c:\\users\\jessica\\anaconda3\\lib\\site-packages (from chromadb) (0.48b0)\n",
      "Requirement already satisfied: opentelemetry-sdk>=1.2.0 in c:\\users\\jessica\\anaconda3\\lib\\site-packages (from chromadb) (1.27.0)\n",
      "Requirement already satisfied: tokenizers>=0.13.2 in c:\\users\\jessica\\anaconda3\\lib\\site-packages (from chromadb) (0.20.4)\n",
      "Requirement already satisfied: pypika>=0.48.9 in c:\\users\\jessica\\anaconda3\\lib\\site-packages (from chromadb) (0.48.9)\n",
      "Requirement already satisfied: tqdm>=4.65.0 in c:\\users\\jessica\\anaconda3\\lib\\site-packages (from chromadb) (4.65.0)\n",
      "Requirement already satisfied: overrides>=7.3.1 in c:\\users\\jessica\\anaconda3\\lib\\site-packages (from chromadb) (7.7.0)\n",
      "Requirement already satisfied: importlib-resources in c:\\users\\jessica\\anaconda3\\lib\\site-packages (from chromadb) (6.4.5)\n",
      "Requirement already satisfied: grpcio>=1.58.0 in c:\\users\\jessica\\anaconda3\\lib\\site-packages (from chromadb) (1.68.0)\n",
      "Requirement already satisfied: bcrypt>=4.0.1 in c:\\users\\jessica\\anaconda3\\lib\\site-packages (from chromadb) (4.2.1)\n",
      "Requirement already satisfied: typer>=0.9.0 in c:\\users\\jessica\\anaconda3\\lib\\site-packages (from chromadb) (0.13.1)\n",
      "Requirement already satisfied: kubernetes>=28.1.0 in c:\\users\\jessica\\anaconda3\\lib\\site-packages (from chromadb) (31.0.0)\n",
      "Requirement already satisfied: tenacity>=8.2.3 in c:\\users\\jessica\\anaconda3\\lib\\site-packages (from chromadb) (8.5.0)\n",
      "Requirement already satisfied: PyYAML>=6.0.0 in c:\\users\\jessica\\anaconda3\\lib\\site-packages (from chromadb) (6.0)\n",
      "Requirement already satisfied: mmh3>=4.0.1 in c:\\users\\jessica\\anaconda3\\lib\\site-packages (from chromadb) (5.0.1)\n",
      "Requirement already satisfied: orjson>=3.9.12 in c:\\users\\jessica\\anaconda3\\lib\\site-packages (from chromadb) (3.10.5)\n",
      "Requirement already satisfied: httpx>=0.27.0 in c:\\users\\jessica\\anaconda3\\lib\\site-packages (from chromadb) (0.27.0)\n",
      "Requirement already satisfied: rich>=10.11.0 in c:\\users\\jessica\\anaconda3\\lib\\site-packages (from chromadb) (13.9.4)\n",
      "Requirement already satisfied: packaging>=19.1 in c:\\users\\jessica\\anaconda3\\lib\\site-packages (from build>=1.0.3->chromadb) (24.1)\n",
      "Requirement already satisfied: pyproject_hooks in c:\\users\\jessica\\anaconda3\\lib\\site-packages (from build>=1.0.3->chromadb) (1.2.0)\n",
      "Requirement already satisfied: colorama in c:\\users\\jessica\\anaconda3\\lib\\site-packages (from build>=1.0.3->chromadb) (0.4.6)\n",
      "Requirement already satisfied: starlette<0.42.0,>=0.40.0 in c:\\users\\jessica\\anaconda3\\lib\\site-packages (from fastapi>=0.95.2->chromadb) (0.41.3)\n",
      "Requirement already satisfied: anyio in c:\\users\\jessica\\anaconda3\\lib\\site-packages (from httpx>=0.27.0->chromadb) (3.5.0)\n",
      "Requirement already satisfied: certifi in c:\\users\\jessica\\anaconda3\\lib\\site-packages (from httpx>=0.27.0->chromadb) (2023.7.22)\n",
      "Requirement already satisfied: httpcore==1.* in c:\\users\\jessica\\anaconda3\\lib\\site-packages (from httpx>=0.27.0->chromadb) (1.0.5)\n",
      "Requirement already satisfied: idna in c:\\users\\jessica\\anaconda3\\lib\\site-packages (from httpx>=0.27.0->chromadb) (3.4)\n",
      "Requirement already satisfied: sniffio in c:\\users\\jessica\\anaconda3\\lib\\site-packages (from httpx>=0.27.0->chromadb) (1.2.0)\n",
      "Requirement already satisfied: h11<0.15,>=0.13 in c:\\users\\jessica\\anaconda3\\lib\\site-packages (from httpcore==1.*->httpx>=0.27.0->chromadb) (0.14.0)\n",
      "Requirement already satisfied: six>=1.9.0 in c:\\users\\jessica\\anaconda3\\lib\\site-packages (from kubernetes>=28.1.0->chromadb) (1.16.0)\n",
      "Requirement already satisfied: python-dateutil>=2.5.3 in c:\\users\\jessica\\anaconda3\\lib\\site-packages (from kubernetes>=28.1.0->chromadb) (2.8.2)\n",
      "Requirement already satisfied: google-auth>=1.0.1 in c:\\users\\jessica\\anaconda3\\lib\\site-packages (from kubernetes>=28.1.0->chromadb) (2.36.0)\n",
      "Requirement already satisfied: websocket-client!=0.40.0,!=0.41.*,!=0.42.*,>=0.32.0 in c:\\users\\jessica\\anaconda3\\lib\\site-packages (from kubernetes>=28.1.0->chromadb) (0.58.0)\n",
      "Requirement already satisfied: requests in c:\\users\\jessica\\anaconda3\\lib\\site-packages (from kubernetes>=28.1.0->chromadb) (2.31.0)\n",
      "Requirement already satisfied: requests-oauthlib in c:\\users\\jessica\\anaconda3\\lib\\site-packages (from kubernetes>=28.1.0->chromadb) (2.0.0)\n",
      "Requirement already satisfied: oauthlib>=3.2.2 in c:\\users\\jessica\\anaconda3\\lib\\site-packages (from kubernetes>=28.1.0->chromadb) (3.2.2)\n",
      "Requirement already satisfied: urllib3>=1.24.2 in c:\\users\\jessica\\anaconda3\\lib\\site-packages (from kubernetes>=28.1.0->chromadb) (1.26.16)\n",
      "Requirement already satisfied: durationpy>=0.7 in c:\\users\\jessica\\anaconda3\\lib\\site-packages (from kubernetes>=28.1.0->chromadb) (0.9)\n",
      "Requirement already satisfied: coloredlogs in c:\\users\\jessica\\anaconda3\\lib\\site-packages (from onnxruntime>=1.14.1->chromadb) (15.0.1)\n",
      "Requirement already satisfied: flatbuffers in c:\\users\\jessica\\anaconda3\\lib\\site-packages (from onnxruntime>=1.14.1->chromadb) (24.3.25)\n",
      "Requirement already satisfied: protobuf in c:\\users\\jessica\\anaconda3\\lib\\site-packages (from onnxruntime>=1.14.1->chromadb) (5.28.3)\n",
      "Requirement already satisfied: sympy in c:\\users\\jessica\\anaconda3\\lib\\site-packages (from onnxruntime>=1.14.1->chromadb) (1.13.1)\n",
      "Requirement already satisfied: deprecated>=1.2.6 in c:\\users\\jessica\\anaconda3\\lib\\site-packages (from opentelemetry-api>=1.2.0->chromadb) (1.2.15)\n",
      "Requirement already satisfied: importlib-metadata<=8.4.0,>=6.0 in c:\\users\\jessica\\anaconda3\\lib\\site-packages (from opentelemetry-api>=1.2.0->chromadb) (6.0.0)\n",
      "Requirement already satisfied: googleapis-common-protos~=1.52 in c:\\users\\jessica\\anaconda3\\lib\\site-packages (from opentelemetry-exporter-otlp-proto-grpc>=1.2.0->chromadb) (1.63.1)\n",
      "Requirement already satisfied: opentelemetry-exporter-otlp-proto-common==1.27.0 in c:\\users\\jessica\\anaconda3\\lib\\site-packages (from opentelemetry-exporter-otlp-proto-grpc>=1.2.0->chromadb) (1.27.0)\n",
      "Requirement already satisfied: opentelemetry-proto==1.27.0 in c:\\users\\jessica\\anaconda3\\lib\\site-packages (from opentelemetry-exporter-otlp-proto-grpc>=1.2.0->chromadb) (1.27.0)\n",
      "Collecting protobuf (from onnxruntime>=1.14.1->chromadb)\n",
      "  Obtaining dependency information for protobuf from https://files.pythonhosted.org/packages/a7/ad/bf3f358e90b7e70bf7fb520702cb15307ef268262292d3bdb16ad8ebc815/protobuf-4.25.5-cp310-abi3-win_amd64.whl.metadata\n",
      "  Using cached protobuf-4.25.5-cp310-abi3-win_amd64.whl.metadata (541 bytes)\n",
      "Requirement already satisfied: opentelemetry-instrumentation-asgi==0.48b0 in c:\\users\\jessica\\anaconda3\\lib\\site-packages (from opentelemetry-instrumentation-fastapi>=0.41b0->chromadb) (0.48b0)\n",
      "Requirement already satisfied: opentelemetry-instrumentation==0.48b0 in c:\\users\\jessica\\anaconda3\\lib\\site-packages (from opentelemetry-instrumentation-fastapi>=0.41b0->chromadb) (0.48b0)\n",
      "Requirement already satisfied: opentelemetry-semantic-conventions==0.48b0 in c:\\users\\jessica\\anaconda3\\lib\\site-packages (from opentelemetry-instrumentation-fastapi>=0.41b0->chromadb) (0.48b0)\n",
      "Requirement already satisfied: opentelemetry-util-http==0.48b0 in c:\\users\\jessica\\anaconda3\\lib\\site-packages (from opentelemetry-instrumentation-fastapi>=0.41b0->chromadb) (0.48b0)\n",
      "Requirement already satisfied: setuptools>=16.0 in c:\\users\\jessica\\anaconda3\\lib\\site-packages (from opentelemetry-instrumentation==0.48b0->opentelemetry-instrumentation-fastapi>=0.41b0->chromadb) (68.0.0)\n",
      "Requirement already satisfied: wrapt<2.0.0,>=1.0.0 in c:\\users\\jessica\\anaconda3\\lib\\site-packages (from opentelemetry-instrumentation==0.48b0->opentelemetry-instrumentation-fastapi>=0.41b0->chromadb) (1.14.1)\n",
      "Requirement already satisfied: asgiref~=3.0 in c:\\users\\jessica\\anaconda3\\lib\\site-packages (from opentelemetry-instrumentation-asgi==0.48b0->opentelemetry-instrumentation-fastapi>=0.41b0->chromadb) (3.8.1)\n",
      "Requirement already satisfied: monotonic>=1.5 in c:\\users\\jessica\\anaconda3\\lib\\site-packages (from posthog>=2.4.0->chromadb) (1.6)\n",
      "Requirement already satisfied: backoff>=1.10.0 in c:\\users\\jessica\\anaconda3\\lib\\site-packages (from posthog>=2.4.0->chromadb) (2.2.1)\n",
      "Requirement already satisfied: annotated-types>=0.6.0 in c:\\users\\jessica\\anaconda3\\lib\\site-packages (from pydantic>=1.9->chromadb) (0.7.0)\n",
      "Requirement already satisfied: pydantic-core==2.23.4 in c:\\users\\jessica\\anaconda3\\lib\\site-packages (from pydantic>=1.9->chromadb) (2.23.4)\n",
      "Requirement already satisfied: markdown-it-py>=2.2.0 in c:\\users\\jessica\\anaconda3\\lib\\site-packages (from rich>=10.11.0->chromadb) (2.2.0)\n",
      "Requirement already satisfied: pygments<3.0.0,>=2.13.0 in c:\\users\\jessica\\anaconda3\\lib\\site-packages (from rich>=10.11.0->chromadb) (2.15.1)\n",
      "Requirement already satisfied: huggingface-hub<1.0,>=0.16.4 in c:\\users\\jessica\\anaconda3\\lib\\site-packages (from tokenizers>=0.13.2->chromadb) (0.26.2)\n",
      "Requirement already satisfied: click>=8.0.0 in c:\\users\\jessica\\anaconda3\\lib\\site-packages (from typer>=0.9.0->chromadb) (8.0.4)\n",
      "Requirement already satisfied: shellingham>=1.3.0 in c:\\users\\jessica\\anaconda3\\lib\\site-packages (from typer>=0.9.0->chromadb) (1.5.4)\n",
      "Requirement already satisfied: httptools>=0.6.3 in c:\\users\\jessica\\anaconda3\\lib\\site-packages (from uvicorn[standard]>=0.18.3->chromadb) (0.6.4)\n",
      "Requirement already satisfied: python-dotenv>=0.13 in c:\\users\\jessica\\anaconda3\\lib\\site-packages (from uvicorn[standard]>=0.18.3->chromadb) (1.0.0)\n",
      "Requirement already satisfied: watchfiles>=0.13 in c:\\users\\jessica\\anaconda3\\lib\\site-packages (from uvicorn[standard]>=0.18.3->chromadb) (1.0.0)\n",
      "Requirement already satisfied: websockets>=10.4 in c:\\users\\jessica\\anaconda3\\lib\\site-packages (from uvicorn[standard]>=0.18.3->chromadb) (14.1)\n",
      "Requirement already satisfied: cachetools<6.0,>=2.0.0 in c:\\users\\jessica\\anaconda3\\lib\\site-packages (from google-auth>=1.0.1->kubernetes>=28.1.0->chromadb) (5.5.0)\n",
      "Requirement already satisfied: pyasn1-modules>=0.2.1 in c:\\users\\jessica\\anaconda3\\lib\\site-packages (from google-auth>=1.0.1->kubernetes>=28.1.0->chromadb) (0.2.8)\n",
      "Requirement already satisfied: rsa<5,>=3.1.4 in c:\\users\\jessica\\anaconda3\\lib\\site-packages (from google-auth>=1.0.1->kubernetes>=28.1.0->chromadb) (4.9)\n",
      "Requirement already satisfied: filelock in c:\\users\\jessica\\anaconda3\\lib\\site-packages (from huggingface-hub<1.0,>=0.16.4->tokenizers>=0.13.2->chromadb) (3.9.0)\n",
      "Requirement already satisfied: fsspec>=2023.5.0 in c:\\users\\jessica\\anaconda3\\lib\\site-packages (from huggingface-hub<1.0,>=0.16.4->tokenizers>=0.13.2->chromadb) (2024.10.0)\n",
      "Requirement already satisfied: zipp>=0.5 in c:\\users\\jessica\\anaconda3\\lib\\site-packages (from importlib-metadata<=8.4.0,>=6.0->opentelemetry-api>=1.2.0->chromadb) (3.11.0)\n",
      "Requirement already satisfied: mdurl~=0.1 in c:\\users\\jessica\\anaconda3\\lib\\site-packages (from markdown-it-py>=2.2.0->rich>=10.11.0->chromadb) (0.1.0)\n",
      "Requirement already satisfied: charset-normalizer<4,>=2 in c:\\users\\jessica\\anaconda3\\lib\\site-packages (from requests->kubernetes>=28.1.0->chromadb) (2.0.4)\n",
      "Requirement already satisfied: humanfriendly>=9.1 in c:\\users\\jessica\\anaconda3\\lib\\site-packages (from coloredlogs->onnxruntime>=1.14.1->chromadb) (10.0)\n",
      "Requirement already satisfied: mpmath<1.4,>=1.1.0 in c:\\users\\jessica\\anaconda3\\lib\\site-packages (from sympy->onnxruntime>=1.14.1->chromadb) (1.3.0)\n",
      "Requirement already satisfied: pyreadline3 in c:\\users\\jessica\\anaconda3\\lib\\site-packages (from humanfriendly>=9.1->coloredlogs->onnxruntime>=1.14.1->chromadb) (3.5.4)\n",
      "Requirement already satisfied: pyasn1<0.5.0,>=0.4.6 in c:\\users\\jessica\\anaconda3\\lib\\site-packages (from pyasn1-modules>=0.2.1->google-auth>=1.0.1->kubernetes>=28.1.0->chromadb) (0.4.8)\n",
      "Using cached protobuf-4.25.5-cp310-abi3-win_amd64.whl (413 kB)\n",
      "Installing collected packages: protobuf\n",
      "  Attempting uninstall: protobuf\n",
      "    Found existing installation: protobuf 5.28.3\n",
      "    Uninstalling protobuf-5.28.3:\n",
      "      Successfully uninstalled protobuf-5.28.3\n",
      "Successfully installed protobuf-4.25.5\n"
     ]
    },
    {
     "name": "stderr",
     "output_type": "stream",
     "text": [
      "ERROR: pip's dependency resolver does not currently take into account all the packages that are installed. This behaviour is the source of the following dependency conflicts.\n",
      "grpcio-status 1.68.0 requires protobuf<6.0dev,>=5.26.1, but you have protobuf 4.25.5 which is incompatible.\n",
      "streamlit 1.22.0 requires protobuf<4,>=3.12, but you have protobuf 4.25.5 which is incompatible.\n"
     ]
    }
   ],
   "source": [
    "!pip install -U langchain-google-genai\n",
    "!pip install -r requirements.txt\n",
    "!pip install langchain --upgrade\n",
    "#pip install langchain_experimental\n",
    "#!pip install --upgrade langchain langchain-experimental\n",
    "!pip install langchain langchain-experimental langchain-google-genai\n",
    "!pip install pydantic==2.9.2\n",
    "!pip install sentence_transformers\n",
    "!pip install chromadb\n"
   ]
  },
  {
   "cell_type": "code",
   "execution_count": 2,
   "id": "63da6d2e",
   "metadata": {},
   "outputs": [
    {
     "name": "stderr",
     "output_type": "stream",
     "text": [
      "C:\\Users\\Jessica\\AppData\\Local\\Temp\\ipykernel_25248\\3740445730.py:3: LangChainDeprecationWarning: The method `BaseLLM.__call__` was deprecated in langchain-core 0.1.7 and will be removed in 1.0. Use :meth:`~invoke` instead.\n",
      "  poem=llm('write a sweet poem for me')\n"
     ]
    },
    {
     "name": "stdout",
     "output_type": "stream",
     "text": [
      "\n"
     ]
    }
   ],
   "source": [
    "from langchain_google_genai import GoogleGenerativeAI\n",
    "llm = GoogleGenerativeAI(model=\"gemini-pro\", api_key='***************************', temperature=0.2)\n",
    "poem=llm('write a sweet poem for me')\n",
    "print(poem)"
   ]
  },
  {
   "cell_type": "code",
   "execution_count": 3,
   "id": "b7d18607",
   "metadata": {},
   "outputs": [
    {
     "name": "stdout",
     "output_type": "stream",
     "text": [
      "C:\\Users\\Jessica\n"
     ]
    }
   ],
   "source": [
    "import os\n",
    "print(os.getcwd())\n"
   ]
  },
  {
   "cell_type": "code",
   "execution_count": 4,
   "id": "a6a33390",
   "metadata": {},
   "outputs": [],
   "source": [
    "from langchain.utilities import SQLDatabase\n",
    "db_user = \"root\"\n",
    "db_password = \"janeSHORT2!\"\n",
    "db_host = '127.0.0.1' \n",
    "db_name = \"atliq_tshirts\"\n",
    "\n",
    "\n",
    "db = SQLDatabase.from_uri(f\"mysql+pymysql://{db_user}:{db_password}@{db_host}/{db_name}\",\n",
    "                              sample_rows_in_table_info=3)"
   ]
  },
  {
   "cell_type": "code",
   "execution_count": 5,
   "id": "e7c8ec57",
   "metadata": {},
   "outputs": [
    {
     "name": "stdout",
     "output_type": "stream",
     "text": [
      "\n",
      "CREATE TABLE discounts (\n",
      "\tdiscount_id INTEGER NOT NULL AUTO_INCREMENT, \n",
      "\tt_shirt_id INTEGER NOT NULL, \n",
      "\tpct_discount DECIMAL(5, 2), \n",
      "\tPRIMARY KEY (discount_id), \n",
      "\tCONSTRAINT discounts_ibfk_1 FOREIGN KEY(t_shirt_id) REFERENCES t_shirts (t_shirt_id), \n",
      "\tCONSTRAINT discounts_chk_1 CHECK ((`pct_discount` between 0 and 100))\n",
      ")ENGINE=InnoDB COLLATE utf8mb4_0900_ai_ci DEFAULT CHARSET=utf8mb4\n",
      "\n",
      "/*\n",
      "3 rows from discounts table:\n",
      "discount_id\tt_shirt_id\tpct_discount\n",
      "1\t1\t10.00\n",
      "2\t2\t15.00\n",
      "3\t3\t20.00\n",
      "*/\n",
      "\n",
      "\n",
      "CREATE TABLE t_shirts (\n",
      "\tt_shirt_id INTEGER NOT NULL AUTO_INCREMENT, \n",
      "\tbrand ENUM('Van Huesen','Levi','Nike','Adidas') NOT NULL, \n",
      "\tcolor ENUM('Red','Blue','Black','White') NOT NULL, \n",
      "\tsize ENUM('XS','S','M','L','XL') NOT NULL, \n",
      "\tprice INTEGER, \n",
      "\tstock_quantity INTEGER NOT NULL, \n",
      "\tPRIMARY KEY (t_shirt_id), \n",
      "\tCONSTRAINT t_shirts_chk_1 CHECK ((`price` between 10 and 50))\n",
      ")ENGINE=InnoDB COLLATE utf8mb4_0900_ai_ci DEFAULT CHARSET=utf8mb4\n",
      "\n",
      "/*\n",
      "3 rows from t_shirts table:\n",
      "t_shirt_id\tbrand\tcolor\tsize\tprice\tstock_quantity\n",
      "1\tAdidas\tRed\tM\t10\t56\n",
      "2\tNike\tRed\tL\t15\t76\n",
      "3\tVan Huesen\tWhite\tS\t21\t65\n",
      "*/\n"
     ]
    }
   ],
   "source": [
    "print(db.table_info)"
   ]
  },
  {
   "cell_type": "code",
   "execution_count": 6,
   "id": "670dfb08",
   "metadata": {},
   "outputs": [
    {
     "ename": "SchemaError",
     "evalue": "Invalid Schema:\ndefinitions.schema.model.config.extra_fields_behavior\n  Input should be 'allow', 'forbid' or 'ignore' [type=literal_error, input_value=<Extra.forbid: 'forbid'>, input_type=Extra]\n    For further information visit https://errors.pydantic.dev/2.9/v/literal_error",
     "output_type": "error",
     "traceback": [
      "\u001b[1;31m---------------------------------------------------------------------------\u001b[0m",
      "\u001b[1;31mSchemaError\u001b[0m                               Traceback (most recent call last)",
      "Cell \u001b[1;32mIn[6], line 1\u001b[0m\n\u001b[1;32m----> 1\u001b[0m \u001b[38;5;28;01mfrom\u001b[39;00m \u001b[38;5;21;01mlangchain_experimental\u001b[39;00m\u001b[38;5;21;01m.\u001b[39;00m\u001b[38;5;21;01msql\u001b[39;00m \u001b[38;5;28;01mimport\u001b[39;00m SQLDatabaseChain, SQLDatabaseSequentialChain\n",
      "File \u001b[1;32m~\\anaconda3\\Lib\\site-packages\\langchain_experimental\\sql\\__init__.py:2\u001b[0m\n\u001b[0;32m      1\u001b[0m \u001b[38;5;124;03m\"\"\"Chain for interacting with SQL Database.\"\"\"\u001b[39;00m\n\u001b[1;32m----> 2\u001b[0m \u001b[38;5;28;01mfrom\u001b[39;00m \u001b[38;5;21;01mlangchain_experimental\u001b[39;00m\u001b[38;5;21;01m.\u001b[39;00m\u001b[38;5;21;01msql\u001b[39;00m\u001b[38;5;21;01m.\u001b[39;00m\u001b[38;5;21;01mbase\u001b[39;00m \u001b[38;5;28;01mimport\u001b[39;00m SQLDatabaseChain, SQLDatabaseSequentialChain\n\u001b[0;32m      4\u001b[0m __all__ \u001b[38;5;241m=\u001b[39m [\u001b[38;5;124m\"\u001b[39m\u001b[38;5;124mSQLDatabaseChain\u001b[39m\u001b[38;5;124m\"\u001b[39m, \u001b[38;5;124m\"\u001b[39m\u001b[38;5;124mSQLDatabaseSequentialChain\u001b[39m\u001b[38;5;124m\"\u001b[39m]\n",
      "File \u001b[1;32m~\\anaconda3\\Lib\\site-packages\\langchain_experimental\\sql\\base.py:22\u001b[0m\n\u001b[0;32m     17\u001b[0m \u001b[38;5;28;01mfrom\u001b[39;00m \u001b[38;5;21;01mlangchain_experimental\u001b[39;00m\u001b[38;5;21;01m.\u001b[39;00m\u001b[38;5;21;01mpydantic_v1\u001b[39;00m \u001b[38;5;28;01mimport\u001b[39;00m Extra, Field, root_validator\n\u001b[0;32m     19\u001b[0m INTERMEDIATE_STEPS_KEY \u001b[38;5;241m=\u001b[39m \u001b[38;5;124m\"\u001b[39m\u001b[38;5;124mintermediate_steps\u001b[39m\u001b[38;5;124m\"\u001b[39m\n\u001b[1;32m---> 22\u001b[0m \u001b[38;5;28;01mclass\u001b[39;00m \u001b[38;5;21;01mSQLDatabaseChain\u001b[39;00m(Chain):\n\u001b[0;32m     23\u001b[0m \u001b[38;5;250m    \u001b[39m\u001b[38;5;124;03m\"\"\"Chain for interacting with SQL Database.\u001b[39;00m\n\u001b[0;32m     24\u001b[0m \n\u001b[0;32m     25\u001b[0m \u001b[38;5;124;03m    Example:\u001b[39;00m\n\u001b[1;32m   (...)\u001b[0m\n\u001b[0;32m     40\u001b[0m \u001b[38;5;124;03m        https://github.com/langchain-ai/langchain/issues/5923\u001b[39;00m\n\u001b[0;32m     41\u001b[0m \u001b[38;5;124;03m    \"\"\"\u001b[39;00m\n\u001b[0;32m     43\u001b[0m     llm_chain: LLMChain\n",
      "File \u001b[1;32m~\\anaconda3\\Lib\\site-packages\\pydantic\\_internal\\_model_construction.py:224\u001b[0m, in \u001b[0;36mModelMetaclass.__new__\u001b[1;34m(mcs, cls_name, bases, namespace, __pydantic_generic_metadata__, __pydantic_reset_parent_namespace__, _create_model_module, **kwargs)\u001b[0m\n\u001b[0;32m    221\u001b[0m \u001b[38;5;28;01mif\u001b[39;00m config_wrapper\u001b[38;5;241m.\u001b[39mfrozen \u001b[38;5;129;01mand\u001b[39;00m \u001b[38;5;124m'\u001b[39m\u001b[38;5;124m__hash__\u001b[39m\u001b[38;5;124m'\u001b[39m \u001b[38;5;129;01mnot\u001b[39;00m \u001b[38;5;129;01min\u001b[39;00m namespace:\n\u001b[0;32m    222\u001b[0m     set_default_hash_func(\u001b[38;5;28mcls\u001b[39m, bases)\n\u001b[1;32m--> 224\u001b[0m complete_model_class(\n\u001b[0;32m    225\u001b[0m     \u001b[38;5;28mcls\u001b[39m,\n\u001b[0;32m    226\u001b[0m     cls_name,\n\u001b[0;32m    227\u001b[0m     config_wrapper,\n\u001b[0;32m    228\u001b[0m     raise_errors\u001b[38;5;241m=\u001b[39m\u001b[38;5;28;01mFalse\u001b[39;00m,\n\u001b[0;32m    229\u001b[0m     types_namespace\u001b[38;5;241m=\u001b[39mtypes_namespace,\n\u001b[0;32m    230\u001b[0m     create_model_module\u001b[38;5;241m=\u001b[39m_create_model_module,\n\u001b[0;32m    231\u001b[0m )\n\u001b[0;32m    233\u001b[0m \u001b[38;5;66;03m# If this is placed before the complete_model_class call above,\u001b[39;00m\n\u001b[0;32m    234\u001b[0m \u001b[38;5;66;03m# the generic computed fields return type is set to PydanticUndefined\u001b[39;00m\n\u001b[0;32m    235\u001b[0m \u001b[38;5;28mcls\u001b[39m\u001b[38;5;241m.\u001b[39mmodel_computed_fields \u001b[38;5;241m=\u001b[39m {k: v\u001b[38;5;241m.\u001b[39minfo \u001b[38;5;28;01mfor\u001b[39;00m k, v \u001b[38;5;129;01min\u001b[39;00m \u001b[38;5;28mcls\u001b[39m\u001b[38;5;241m.\u001b[39m__pydantic_decorators__\u001b[38;5;241m.\u001b[39mcomputed_fields\u001b[38;5;241m.\u001b[39mitems()}\n",
      "File \u001b[1;32m~\\anaconda3\\Lib\\site-packages\\pydantic\\_internal\\_model_construction.py:587\u001b[0m, in \u001b[0;36mcomplete_model_class\u001b[1;34m(cls, cls_name, config_wrapper, raise_errors, types_namespace, create_model_module)\u001b[0m\n\u001b[0;32m    584\u001b[0m core_config \u001b[38;5;241m=\u001b[39m config_wrapper\u001b[38;5;241m.\u001b[39mcore_config(\u001b[38;5;28mcls\u001b[39m)\n\u001b[0;32m    586\u001b[0m \u001b[38;5;28;01mtry\u001b[39;00m:\n\u001b[1;32m--> 587\u001b[0m     schema \u001b[38;5;241m=\u001b[39m gen_schema\u001b[38;5;241m.\u001b[39mclean_schema(schema)\n\u001b[0;32m    588\u001b[0m \u001b[38;5;28;01mexcept\u001b[39;00m gen_schema\u001b[38;5;241m.\u001b[39mCollectedInvalid:\n\u001b[0;32m    589\u001b[0m     set_model_mocks(\u001b[38;5;28mcls\u001b[39m, cls_name)\n",
      "File \u001b[1;32m~\\anaconda3\\Lib\\site-packages\\pydantic\\_internal\\_generate_schema.py:595\u001b[0m, in \u001b[0;36mGenerateSchema.clean_schema\u001b[1;34m(self, schema)\u001b[0m\n\u001b[0;32m    593\u001b[0m     \u001b[38;5;28;01mraise\u001b[39;00m \u001b[38;5;28mself\u001b[39m\u001b[38;5;241m.\u001b[39mCollectedInvalid()\n\u001b[0;32m    594\u001b[0m schema \u001b[38;5;241m=\u001b[39m _discriminated_union\u001b[38;5;241m.\u001b[39mapply_discriminators(schema)\n\u001b[1;32m--> 595\u001b[0m schema \u001b[38;5;241m=\u001b[39m validate_core_schema(schema)\n\u001b[0;32m    596\u001b[0m \u001b[38;5;28;01mreturn\u001b[39;00m schema\n",
      "File \u001b[1;32m~\\anaconda3\\Lib\\site-packages\\pydantic\\_internal\\_core_utils.py:570\u001b[0m, in \u001b[0;36mvalidate_core_schema\u001b[1;34m(schema)\u001b[0m\n\u001b[0;32m    568\u001b[0m \u001b[38;5;28;01mif\u001b[39;00m \u001b[38;5;124m'\u001b[39m\u001b[38;5;124mPYDANTIC_SKIP_VALIDATING_CORE_SCHEMAS\u001b[39m\u001b[38;5;124m'\u001b[39m \u001b[38;5;129;01min\u001b[39;00m os\u001b[38;5;241m.\u001b[39menviron:\n\u001b[0;32m    569\u001b[0m     \u001b[38;5;28;01mreturn\u001b[39;00m schema\n\u001b[1;32m--> 570\u001b[0m \u001b[38;5;28;01mreturn\u001b[39;00m _validate_core_schema(schema)\n",
      "\u001b[1;31mSchemaError\u001b[0m: Invalid Schema:\ndefinitions.schema.model.config.extra_fields_behavior\n  Input should be 'allow', 'forbid' or 'ignore' [type=literal_error, input_value=<Extra.forbid: 'forbid'>, input_type=Extra]\n    For further information visit https://errors.pydantic.dev/2.9/v/literal_error"
     ]
    }
   ],
   "source": [
    "from langchain_experimental.sql import SQLDatabaseChain, SQLDatabaseSequentialChain\n"
   ]
  },
  {
   "cell_type": "code",
   "execution_count": null,
   "id": "67410616",
   "metadata": {},
   "outputs": [],
   "source": [
    "db_chain= SQLDatabaseChain.from_llm(llm, db, verbose=True)\n",
    "qns= db_chain.run(\"How many white color tshirt do we have for extral small size\")\n"
   ]
  },
  {
   "cell_type": "code",
   "execution_count": null,
   "id": "cc940be0",
   "metadata": {},
   "outputs": [],
   "source": [
    "qns=db_chain.run(SELECT & FROM USERS)"
   ]
  },
  {
   "cell_type": "code",
   "execution_count": 9,
   "id": "5d2ce051",
   "metadata": {},
   "outputs": [],
   "source": [
    "few_shots = [\n",
    "    {\n",
    "        'Question': 'How many tshorts were sold',\n",
    "        'SQLQuery': 'SELECT * FROM USERS',\n",
    "        'SQLResult':\"Result of the SQLQuery\",\n",
    "        'Answer': 'qns'\n",
    "    },\n",
    "    {\n",
    "        'Question': 'How many small thsirts that are black are remaining',\n",
    "        'SQL Query': 'SELECT * FROM USERS WHERE size=10',\n",
    "        'SQLResult': 'Result of the SQLQuery',\n",
    "        'Answer': 'qns'\n",
    "    }\n",
    "    \n",
    "]"
   ]
  },
  {
   "cell_type": "code",
   "execution_count": 10,
   "id": "f2ea501a",
   "metadata": {
    "scrolled": true
   },
   "outputs": [
    {
     "name": "stderr",
     "output_type": "stream",
     "text": [
      "Instructor models require `include_prompt=False` in the pooling configuration. Either update the model configuration or call `model.set_pooling_include_prompt(False)` after loading the model.\n"
     ]
    }
   ],
   "source": [
    "from sentence_transformers import SentenceTransformer\n",
    "\n",
    "model = SentenceTransformer(\"hku-nlp/instructor-large\")\n",
    "\n"
   ]
  },
  {
   "cell_type": "code",
   "execution_count": null,
   "id": "253d30fb",
   "metadata": {},
   "outputs": [],
   "source": []
  },
  {
   "cell_type": "code",
   "execution_count": 11,
   "id": "695630b3",
   "metadata": {},
   "outputs": [
    {
     "name": "stderr",
     "output_type": "stream",
     "text": [
      "C:\\Users\\Jessica\\AppData\\Local\\Temp\\ipykernel_25248\\790336747.py:2: LangChainDeprecationWarning: The class `HuggingFaceEmbeddings` was deprecated in LangChain 0.2.2 and will be removed in 1.0. An updated version of the class exists in the :class:`~langchain-huggingface package and should be used instead. To use it run `pip install -U :class:`~langchain-huggingface` and import as `from :class:`~langchain_huggingface import HuggingFaceEmbeddings``.\n",
      "  embeddings=HuggingFaceEmbeddings(model_name='sentence-transformers/all-MiniLM-L6-v2')\n"
     ]
    }
   ],
   "source": [
    "from langchain.embeddings import HuggingFaceEmbeddings\n",
    "embeddings=HuggingFaceEmbeddings(model_name='sentence-transformers/all-MiniLM-L6-v2')\n"
   ]
  },
  {
   "cell_type": "code",
   "execution_count": 12,
   "id": "4d9084fe",
   "metadata": {
    "scrolled": true
   },
   "outputs": [
    {
     "data": {
      "text/plain": [
       "[dict_values(['How many tshorts were sold', 'SELECT * FROM USERS', 'Result of the SQLQuery', 'qns']),\n",
       " dict_values(['How many small thsirts that are black are remaining', 'SELECT * FROM USERS WHERE size=10', 'Result of the SQLQuery', 'qns'])]"
      ]
     },
     "execution_count": 12,
     "metadata": {},
     "output_type": "execute_result"
    }
   ],
   "source": [
    "[example.values() for example in few_shots]"
   ]
  },
  {
   "cell_type": "code",
   "execution_count": 13,
   "id": "b16b0f7b",
   "metadata": {},
   "outputs": [
    {
     "data": {
      "text/plain": [
       "['How many tshorts were sold SELECT * FROM USERS Result of the SQLQuery qns',\n",
       " 'How many small thsirts that are black are remaining SELECT * FROM USERS WHERE size=10 Result of the SQLQuery qns']"
      ]
     },
     "execution_count": 13,
     "metadata": {},
     "output_type": "execute_result"
    }
   ],
   "source": [
    "to_vectorize = [' '.join(example.values()) for example in few_shots]\n",
    "to_vectorize"
   ]
  },
  {
   "cell_type": "code",
   "execution_count": null,
   "id": "04830629",
   "metadata": {},
   "outputs": [],
   "source": [
    "from langchain.vectorstores import Chroma\n",
    "vectorstore= Chroma.from_texts(to_vectorize, embedding=embeddings, metadatas=few_shots)"
   ]
  },
  {
   "cell_type": "code",
   "execution_count": null,
   "id": "30326f4d",
   "metadata": {},
   "outputs": [],
   "source": [
    "from langchain.prompts import SemanticSimilarityExampleSelector\n",
    "\n",
    "example_selector= SemanticSimilarityExampleSelector(\n",
    "    vectorescore=vectorscore,\n",
    "    k=2\n",
    ")\n",
    "example_selector.select_examples('How many addidas  tshirts pair is remaining')"
   ]
  },
  {
   "cell_type": "code",
   "execution_count": null,
   "id": "b33d4bf2",
   "metadata": {},
   "outputs": [],
   "source": [
    "from langchain.chains.sql_database.prompt import PROMPT_SUFFIX, _mysql_prompt"
   ]
  },
  {
   "cell_type": "code",
   "execution_count": null,
   "id": "499f50d6",
   "metadata": {},
   "outputs": [],
   "source": [
    "from langchain.prompts.prompt import PromptTemplate\n",
    "example_prompt = PromptTemplate(\n",
    "    input_variables=['Question', 'SQLQuery','SQLResult', 'Answer'],\n",
    "    template= \"\\nQuestion:{Question}\\nSQLQuery:{SQLQuery}\\nSQLResult:{SQLResult}\\nAnswer:{Answer}\"\n",
    ")"
   ]
  },
  {
   "cell_type": "code",
   "execution_count": null,
   "id": "b200a9fa",
   "metadata": {},
   "outputs": [],
   "source": [
    "from langchain.prompts import FewShotPromptTemplate\n",
    "\n",
    "few_shot_prompt = FewShotPromptTemplate(\n",
    "        example_selector=example_selector,\n",
    "        example_prompt=example_prompt,\n",
    "        prefix=mysql_prompt,\n",
    "        suffix=PROMPT_SUFFIX,\n",
    "        input_variables=['input', 'top_k', 'table_info']\n",
    ")"
   ]
  },
  {
   "cell_type": "code",
   "execution_count": null,
   "id": "3ad0b55c",
   "metadata": {},
   "outputs": [],
   "source": [
    "new_chain=SQLDatabaseChain.from_llm(llm, db, verbose=True, prompt=few_shot_prompt)"
   ]
  },
  {
   "cell_type": "code",
   "execution_count": null,
   "id": "6a054ee8",
   "metadata": {},
   "outputs": [],
   "source": []
  }
 ],
 "metadata": {
  "kernelspec": {
   "display_name": "Python 3 (ipykernel)",
   "language": "python",
   "name": "python3"
  },
  "language_info": {
   "codemirror_mode": {
    "name": "ipython",
    "version": 3
   },
   "file_extension": ".py",
   "mimetype": "text/x-python",
   "name": "python",
   "nbconvert_exporter": "python",
   "pygments_lexer": "ipython3",
   "version": "3.11.5"
  }
 },
 "nbformat": 4,
 "nbformat_minor": 5
}
